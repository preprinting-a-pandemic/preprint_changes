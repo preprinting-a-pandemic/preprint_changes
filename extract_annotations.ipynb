{
 "cells": [
  {
   "cell_type": "code",
   "execution_count": 1,
   "metadata": {},
   "outputs": [
    {
     "output_type": "stream",
     "name": "stdout",
     "text": [
      "852\n"
     ]
    }
   ],
   "source": [
    "# open a .txt containing the extracted comments from MS Word\n",
    "trackchange_doc = open(\"data/reconciled_annotations.txt\",'r').read().strip().split(\"\\n\")\n",
    "\n",
    "position_of_comments = []\n",
    "comments_abstract_match = {}\n",
    "\n",
    "# we loop over the file\n",
    "for e in range(len(trackchange_doc)):\n",
    "    element = trackchange_doc[e].strip()\n",
    "    # if the line indicates a commeent\n",
    "    if \"Commented\" in element:        \n",
    "        # we save the line number and the page it refers to\n",
    "        number = element.split(\":\")[0].replace(\"Page \",\"\")\n",
    "        if number.isnumeric():\n",
    "            position_of_comments.append(e)\n",
    "            comments_abstract_match[e] = number\n",
    "            \n",
    "# this is the number of comments we found\n",
    "print (len(position_of_comments))"
   ]
  },
  {
   "cell_type": "code",
   "execution_count": 2,
   "metadata": {},
   "outputs": [],
   "source": [
    "# we save the annotations in a spreadsheet\n",
    "out = open(\"outputs/extracted_reconciled_annotations.tsv\",\"w\")\n",
    "out.write(\"comment_id\\tabstract_id\\tannotator\\tscore\\tcomment\\n\")\n",
    "# this dictionary matches the name of the annotators as MS Word users with their text mention\n",
    "authors = {\"dey,\":\"Dey,  Gautam\", \"jessica\":\"Jessica  Polka\",\"mate\":\"Mate  Palfy\",\"jonathon\":\"jonathon coates\"}\n",
    "\n",
    "\n",
    "# we loop over the comments\n",
    "for c in range(len(position_of_comments)):\n",
    "    # we retrieve the position of the comment and the related abstract id (its page)\n",
    "    comment_pos = position_of_comments[c]\n",
    "    abstract_id = comments_abstract_match[comment_pos]\n",
    "    \n",
    "    # here we know where to stop, at the beginning of the next change (or at the end of the doc)\n",
    "    if c+1 in position_of_comments:\n",
    "        nextchange = position_of_comments[c+1]\n",
    "    else:\n",
    "        nextchange = len(trackchange_doc)+1\n",
    "    \n",
    "    #Page 1: Commented [2] jonathon coates 7/24/2020 1:07:00 PM  Context_effect-_1-  \n",
    "    \n",
    "    # this is the \"comment id\" as in MS Word\n",
    "    id_ = \"[\"+trackchange_doc[comment_pos].split(\"[\")[1].split(\"]\")[0]+\"]\"\n",
    "    \n",
    "    # we try to find the author as, depending on the format is in one of the next lines\n",
    "    possible_author = trackchange_doc[comment_pos].split(\"]\")[1].strip().split(\" \")[0].strip().lower()\n",
    "    author = authors[possible_author]\n",
    "    annotation = trackchange_doc[comment_pos].strip().split(\" \")[-1]\n",
    "    comment = \"\"\n",
    "    if \"_\" not in annotation:\n",
    "        check = False\n",
    "        n_tokens = len(trackchange_doc[comment_pos].split(\" \"))\n",
    "        for x in reversed(range(0,n_tokens)):\n",
    "            if check is False:\n",
    "                token = trackchange_doc[comment_pos].split(\" \")[x]\n",
    "                if \"_\" in token:\n",
    "                    comment = trackchange_doc[comment_pos].strip().split(token)[1]\n",
    "                    annotation = token\n",
    "                    check = True\n",
    "            else:\n",
    "                break\n",
    "    if \"_\" not in annotation:\n",
    "        following_line = trackchange_doc[comment_pos+1]\n",
    "        if \"Page\" not in following_line and \"_\" in following_line:\n",
    "            annotation = [x for x in following_line.split(\" \") if \"_\" in x][0]\n",
    "            comment = following_line.replace(annotation,\"\")\n",
    "    if \"_\" in annotation:    \n",
    "        out.write(id_+\"\\t\"+abstract_id+\"\\t\"+author+\"\\t\"+annotation.strip().lower()+\"\\t\"+comment+\"\\n\")\n",
    "\n",
    "out.close()"
   ]
  }
 ],
 "metadata": {
  "kernelspec": {
   "name": "python3",
   "display_name": "Python 3.7.3 64-bit",
   "metadata": {
    "interpreter": {
     "hash": "31f2aee4e71d21fbe5cf8b01ff0e069b9275f58929596ceb00d14d90e3e16cd6"
    }
   }
  },
  "language_info": {
   "codemirror_mode": {
    "name": "ipython",
    "version": 3
   },
   "file_extension": ".py",
   "mimetype": "text/x-python",
   "name": "python",
   "nbconvert_exporter": "python",
   "pygments_lexer": "ipython3",
   "version": "3.7.3-final"
  }
 },
 "nbformat": 4,
 "nbformat_minor": 4
}