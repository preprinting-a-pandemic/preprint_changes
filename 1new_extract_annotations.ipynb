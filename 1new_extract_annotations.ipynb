{
 "cells": [
  {
   "cell_type": "code",
   "execution_count": 21,
   "metadata": {},
   "outputs": [
    {
     "output_type": "stream",
     "name": "stdout",
     "text": [
      "852\n"
     ]
    }
   ],
   "source": [
    "# open a .txt containing the extracted comments from MS Word\n",
    "trackchange_doc = open(\"reconciled_annotations.txt\",'r').read().strip().split(\"\\n\")\n",
    "\n",
    "position_of_comments = []\n",
    "comments_abstract_match = {}\n",
    "\n",
    "# we loop over the file\n",
    "for e in range(len(trackchange_doc)):\n",
    "    element = trackchange_doc[e].strip()\n",
    "    # if the line indicates a commeent\n",
    "    if \"Commented\" in element:        \n",
    "        # we save the line number and the page it refers to\n",
    "        number = element.split(\":\")[0].replace(\"Page \",\"\")\n",
    "        if number.isnumeric():\n",
    "            position_of_comments.append(e)\n",
    "            comments_abstract_match[e] = number\n",
    "            \n",
    "# this is the number of comments we found\n",
    "print (len(position_of_comments))"
   ]
  },
  {
   "cell_type": "code",
   "execution_count": 22,
   "metadata": {},
   "outputs": [
    {
     "output_type": "stream",
     "name": "stdout",
     "text": [
      "Page 12: Commented [70] Mate Palfy 7/30/2020 11:00:00 AM \nPage 16: Commented [96] Jessica Polka 7/27/2020 3:36:00 PM  (not scoring - changed from “no connectivity changes between groups” to “connectivity of  primary groups did not differ”)  \nPage 16: Commented [97] Dey, Gautam 8/4/2020 2:10:00 PM  (confusing, because significant text changes, but no apparent changes in conclusions or results)  \nPage 16: Commented [98] jonathon coates 7/24/2020 1:28:00 PM \nPage 17: Commented [107] Jessica Polka 7/27/2020 3:45:00 PM \nPage 19: Commented [113] Jessica Polka 7/25/2020 4:08:00 PM \nPage 21: Commented [126] Jessica Polka 7/26/2020 3:00:00 PM  (rearrangement)  \nPage 21: Commented [127] Jessica Polka 7/26/2020 3:01:00 PM  (rearrangement)  \nPage 24: Commented [136] Jessica Polka 7/26/2020 3:10:00 PM  (rearrangement)  \nPage 26: Commented [146] Jessica Polka 7/26/2020 3:22:00 PM  (definition of C-statistics)  \nPage 30: Commented [162] Jessica Polka 7/26/2020 3:32:00 PM  (this section was repetitive)  \nPage 37: Commented [174] Dey, Gautam 7/25/2020 7:51:00 PM \nPage 38: Commented [175] Jessica Polka 7/26/2020 3:49:00 PM \nPage 40: Commented [215] jonathon coates 7/28/2020 11:40:00 AM  (stats have just been rounded)  \nPage 49: Commented [255] Jessica Polka 7/27/2020 3:52:00 PM \nPage 56: Commented [259] Jessica Polka 7/26/2020 5:06:00 PM \nPage 59: Commented [271] Jessica Polka 7/26/2020 5:08:00 PM  (rearrangement)  \nPage 61: Commented [281] Dey, Gautam 8/5/2020 7:12:00 PM  (no significant changes)  \nPage 61: Commented [282] Jessica Polka 7/26/2020 5:12:00 PM  (html encoding)  \nPage 62: Commented [283] Dey, Gautam 8/5/2020 7:17:00 PM  (many changes, to make the abstract more quantitative in on several fronts)  \nPage 62: Commented [294] Jessica Polka 7/26/2020 5:17:00 PM \nPage 62: Commented [296] Jessica Polka 7/26/2020 5:21:00 PM  (repeated below)  \nPage 62: Commented [297] Jessica Polka 7/26/2020 5:21:00 PM  (repeated below)  \nPage 62: Commented [298] Jessica Polka 7/26/2020 5:19:00 PM  (rephrased as female)  \nPage 62: Commented [300] Jessica Polka 7/26/2020 5:20:00 PM \nPage 63: Commented [309] Dey, Gautam 8/5/2020 7:19:00 PM  (no significant changes)  \nPage 63: Commented [310] Jessica Polka 7/27/2020 2:23:00 PM  (no change)  \nPage 64: Commented [311] Dey, Gautam 8/5/2020 7:19:00 PM  (no signficant changes)  \nPage 65: Commented [316] Jessica Polka 7/26/2020 5:24:00 PM  (rearranged)  \nPage 67: Commented [322] Jessica Polka 7/26/2020 5:31:00 PM  (where else?)  \nPage 71: Commented [336] Dey, Gautam 8/5/2020 7:30:00 PM  (no significant changes)  \nPage 72: Commented [338] Jessica Polka 7/26/2020 5:41:00 PM  (rearrangement)  \nPage 72: Commented [343] jonathon coates 7/28/2020 12:54:00 PM \nPage 74: Commented [359] Dey, Gautam 8/5/2020 7:39:00 PM  (no significant changes)  \nPage 74: Commented [361] Jessica Polka 7/26/2020 5:44:00 PM  (sum of numbers that follow)  \nPage 76: Commented [384] Mate Palfy 8/11/2020 10:57:00 AM \nPage 77: Commented [386] Dey, Gautam 8/5/2020 7:45:00 PM  (no significant changes)  \nPage 81: Commented [413] jonathon coates 7/28/2020 1:27:00 PM \nPage 81: Commented [423] Mate Palfy 8/11/2020 11:22:00 AM \nPage 82: Commented [424] Dey, Gautam 8/5/2020 7:57:00 PM  (no significant changes)  \nPage 85: Commented [440] Jessica Polka 7/27/2020 2:26:00 PM  (no change)  \nPage 86: Commented [448] Mate Palfy 8/11/2020 11:51:00 AM \nPage 87: Commented [467] Dey, Gautam 8/5/2020 8:02:00 PM  (no significant changes)  \nPage 89: Commented [494] Jessica Polka 7/30/2020 8:31:00 AM  (reorganization)  \nPage 89: Commented [495] Jessica Polka 7/30/2020 8:30:00 AM \nPage 89: Commented [496] Jessica Polka 7/30/2020 8:30:00 AM  (see reorganization above)  \nPage 89: Commented [497] Jessica Polka 7/30/2020 8:31:00 AM  (rearranged from below)  \nPage 90: Commented [516] Dey, Gautam 8/6/2020 12:34:00 PM  (no significant changes)  \nPage 90: Commented [517R516] Jessica Polka 8/10/2020 12:39:00 PM \nPage 92: Commented [530] Mate Palfy 8/6/2020 2:49:00 PM \nPage 94: Commented [534] Mate Palfy 8/6/2020 2:39:00 PM  (rearrangement)  \nPage 96: Commented [544] Dey, Gautam 8/6/2020 12:41:00 PM  (no significant changes)  \nPage 97: Commented [546] Jessica Polka 7/27/2020 9:29:00 AM \nPage 106: Commented [595] jonathon coates 7/29/2020 10:55:00 AM \nPage 106: Commented [603] Dey, Gautam 8/6/2020 12:56:00 PM \nPage 109: Commented [625] Jessica Polka 7/30/2020 10:27:00 AM \nPage 122: Commented [664] Jessica Polka 8/1/2020 5:20:00 PM\nPage 123: Commented [669] Jessica Polka 8/1/2020 5:22:00 PM  (main conclusion)  \nPage 123: Commented [670] Jessica Polka 8/1/2020 5:23:00 PM  (conclusion about contact tracing)  \nPage 124: Commented [687] Jessica Polka 8/1/2020 5:29:00 PM \nPage 129: Commented [695] jonathon coates 7/29/2020 1:17:00 PM \nPage 136: Commented [731] Dey, Gautam 8/6/2020 1:26:00 PM  (no significant changes)  \nPage 168: Commented [804] Jessica Polka 8/2/2020 9:52:00 AM  (rearrangement)  \nPage 168: Commented [805] Dey, Gautam 8/6/2020 1:45:00 PM  (just moved around)  \nPage 169: Commented [807] Jessica Polka 8/6/2020 1:17:00 PM  (reconciled)  \nPage 172: Commented [815] Jessica Polka 8/2/2020 10:01:00 AM  (rearranged)  \nPage 174: Commented [820] Jessica Polka 8/6/2020 1:09:00 PM  (reconciled)  \nPage 174: Commented [822] Jessica Polka 8/2/2020 10:04:00 AM  (rearrangement)  \nPage 174: Commented [823] Jessica Polka 8/2/2020 10:05:00 AM  (rearrangement)  \nPage 174: Commented [827] Jessica Polka 8/2/2020 10:08:00 AM  (clarity)  \nPage 175: Commented [830] Jessica Polka 8/2/2020 10:09:00 AM  (rearrangement)  \nPage 178: Commented [836] Jessica Polka 8/2/2020 10:15:00 AM  (release implied by binding dynamics)  \nPage 181: Commented [839] Jessica Polka 8/6/2020 1:06:00 PM  (reconciled)  \n"
     ]
    }
   ],
   "source": [
    "# we save the annotations in a spreadsheet\n",
    "out = open(\"extracted_reconciled_annotations.tsv\",\"w\")\n",
    "out.write(\"comment_id\\tabstract_id\\tannotator\\tscore\\tcomment\\n\")\n",
    "# this dictionary matches the name of the annotators as MS Word users with their text mention\n",
    "authors = {\"dey,\":\"Dey,  Gautam\", \"jessica\":\"Jessica  Polka\",\"mate\":\"Mate  Palfy\",\"jonathon\":\"jonathon coates\"}\n",
    "\n",
    "\n",
    "# we loop over the comments\n",
    "for c in range(len(position_of_comments)):\n",
    "    # we retrieve the position of the comment and the related abstract id (its page)\n",
    "    comment_pos = position_of_comments[c]\n",
    "    abstract_id = comments_abstract_match[comment_pos]\n",
    "    \n",
    "    # here we know where to stop, at the beginning of the next change (or at the end of the doc)\n",
    "    if c+1 in position_of_comments:\n",
    "        nextchange = position_of_comments[c+1]\n",
    "    else:\n",
    "        nextchange = len(trackchange_doc)+1\n",
    "    \n",
    "    #Page 1: Commented [2] jonathon coates 7/24/2020 1:07:00 PM  Context_effect-_1-  \n",
    "    \n",
    "    # this is the \"comment id\" as in MS Word\n",
    "    id_ = \"[\"+trackchange_doc[comment_pos].split(\"[\")[1].split(\"]\")[0]+\"]\"\n",
    "    \n",
    "    # we try to find the author as, depending on the format is in one of the next lines\n",
    "    possible_author = trackchange_doc[comment_pos].split(\"]\")[1].strip().split(\" \")[0].strip().lower()\n",
    "    author = authors[possible_author]\n",
    "    annotation = trackchange_doc[comment_pos].strip().split(\" \")[-1]\n",
    "    comment = \"\"\n",
    "    if \"_\" not in annotation:\n",
    "        check = False\n",
    "        n_tokens = len(trackchange_doc[comment_pos].split(\" \"))\n",
    "        for x in reversed(range(0,n_tokens)):\n",
    "            if check is False:\n",
    "                token = trackchange_doc[comment_pos].split(\" \")[x]\n",
    "                if \"_\" in token:\n",
    "                    comment = trackchange_doc[comment_pos].strip().split(token)[1]\n",
    "                    annotation = token\n",
    "                    check = True\n",
    "            else:\n",
    "                break\n",
    "    if \"_\" in annotation:\n",
    "        out.write(id_+\"\\t\"+abstract_id+\"\\t\"+author+\"\\t\"+annotation.strip().lower()+\"\\t\"+comment+\"\\n\")\n",
    "    else:\n",
    "        print (trackchange_doc[comment_pos])\n",
    "\n",
    "out.close()"
   ]
  },
  {
   "cell_type": "code",
   "execution_count": null,
   "metadata": {},
   "outputs": [],
   "source": []
  }
 ],
 "metadata": {
  "kernelspec": {
   "display_name": "Python 3.7.4 64-bit ('base': conda)",
   "language": "python",
   "name": "python37464bitbasecondabcc87949bb3d4822a09d2df6f4191c19"
  },
  "language_info": {
   "codemirror_mode": {
    "name": "ipython",
    "version": 3
   },
   "file_extension": ".py",
   "mimetype": "text/x-python",
   "name": "python",
   "nbconvert_exporter": "python",
   "pygments_lexer": "ipython3",
   "version": "3.7.4-final"
  }
 },
 "nbformat": 4,
 "nbformat_minor": 4
}