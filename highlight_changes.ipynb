{
 "cells": [
  {
   "cell_type": "code",
   "execution_count": 20,
   "metadata": {},
   "outputs": [],
   "source": [
    "import pandas as pd\n",
    "import difflib\n",
    "dataset =  pd.read_csv('preprints_final_abstracts.csv')\n"
   ]
  },
  {
   "cell_type": "code",
   "execution_count": 76,
   "metadata": {},
   "outputs": [],
   "source": [
    "def show_diff(text, n_text):\n",
    "    \"\"\"\n",
    "    Based upon http://stackoverflow.com/a/788780\n",
    "    Unify operations between two compared strings seqm is a difflib.\n",
    "    SequenceMatcher instance whose a & b are strings\n",
    "    \"\"\"\n",
    "    \n",
    "    seqm = difflib.SequenceMatcher(None, text, n_text)\n",
    "    ratio = float(1.0 - seqm.ratio())\n",
    "    output= []\n",
    "    for opcode, a0, a1, b0, b1 in seqm.get_opcodes():\n",
    "        if opcode == 'equal':\n",
    "            output.append(seqm.a[a0:a1])\n",
    "        elif opcode == 'insert':\n",
    "            output.append(\"<font color=green>\" + seqm.b[b0:b1] + \"</font>\")\n",
    "        elif opcode == 'delete':\n",
    "            output.append(\"<strike><font color=red>\" + seqm.a[a0:a1] + \"</font></strike>\")\n",
    "        elif opcode == 'replace':\n",
    "            # seqm.a[a0:a1] -> seqm.b[b0:b1]\n",
    "            output.append(\"<strike><font color=red>\"+ seqm.a[a0:a1] + \"</font></strike> \"\"<font color=green>\" + seqm.b[b0:b1] + \"</font>\")\n",
    "        else:\n",
    "            raise (RuntimeError, \"unexpected opcode\")\n",
    "    return ratio, ''.join(output)"
   ]
  },
  {
   "cell_type": "code",
   "execution_count": 82,
   "metadata": {},
   "outputs": [
    {
     "name": "stdout",
     "output_type": "stream",
     "text": [
      "Scored abstract change: No change or minor: change in wording, if any, does not change main conclusion(s)\n",
      "Computed change ratio: 0.4515710205141522\n",
      " \n"
     ]
    },
    {
     "data": {
      "text/html": [
       "<strike><font color=red>Introduction: </font></strike> <font color=green>Background\n",
       "</font>Diabetes mellitus <font color=green>(DM) </font>is a global health care problem <strike><font color=red>and financially costly</font></strike> <font color=green>that can impose a substantial economic burden</font>. Diabetic peripheral neuropathy <strike><font color=red>is common and frequent cause of morbidity and disability. </font></strike> <font color=green>(</font>D<strike><font color=red>espite its serious complications</font></strike> <font color=green>PN) is a common microvascular complication of DM that increases the potential for morbidity and disability due to ulceration and amputation. Though there is a significant amount of variation in the primary studies on DM regarding the prevalence of DPN in Africa. Hence</font>,<strike><font color=red>limited evidence is available on the ma</font></strike> <font color=green> this study was aimed to estimate the overall prevalence of DPN in DM patients in Africa.\n",
       "\n",
       "Methods\n",
       "PubMed, Scopus, Goo</font>g<strike><font color=red>nitude of diabetic peripheral neuropathy among patient with diabetes mellitus. Hence the objective of this systematic review and meta-analysis was to estimate the pooled prevalence of diabetic peripheral neuropathy among patients with diabetes mellitus in</font></strike> <font color=green>le Scholar,</font> Africa<strike><font color=red>. Methods: PubMed Scopus Google Scholar Africa journal online</font></strike> <font color=green>n Journals OnLine,</font> WHO <strike><font color=red>afro library and</font></strike> <font color=green>African Library, and the</font> Cochrane <strike><font color=red>r</font></strike> <font color=green>R</font>eview were systematically searched online to retrieve related articles. The Preferred Reporting Items for Systematic Review and Meta-Analysis (PRISMA) guideline<font color=green>s</font> was followed. Heterogeneity across the included studies was evaluated by<font color=green> the</font> inconsistency index (I2). Publication bias was examined by funnel plot and Egger<font color=green>’s</font> regression test. The random-effect model was fitted to estimate the pooled prevalence of diabetic peripheral neuropathy among <strike><font color=red>diabetes mellitus patients.</font></strike> <font color=green>patients in</font> A<strike><font color=red>ll statistical </font></strike> <font color=green>frica. The meta-</font>analysis was <strike><font color=red>done</font></strike> <font color=green>performed</font> using<font color=green> the</font> STATA<strike><font color=red> v</font></strike> <font color=green>™ V</font>ersion 14 software<strike><font color=red> for windows. </font></strike> <font color=green>.\n",
       "\n",
       "</font>Results<strike><font color=red>: </font></strike> <font color=green>\n",
       "</font>Twenty-three studies which <strike><font color=red>comprises of</font></strike> <font color=green>includes</font> 269<strike><font color=red> </font></strike> <font color=green>,</font>691 participants were included in the meta-analysis. The overall pooled prevalence of diabetic peripheral neuropathy was 46% (95% CI:36.21<strike><font color=red>-</font></strike> <font color=green>–</font>55.78%). Based on the subgroup analysis<font color=green>,</font> the highest <strike><font color=red>magnitude of diabetic peripheral neuropathy</font></strike> <font color=green>prevalence of diabetic peripheral neuropathy in DM patients</font> was reported in West Africa<font color=green> at</font> 49.4% (95% CI: 32.74, 66.06).<strike><font color=red> </font></strike> <font color=green>\n",
       "\n",
       "</font>Conclusion<strike><font color=red>: </font></strike> <font color=green>\n",
       "</font>This study revealed that the overall prevalence of diabetic peripheral neuropathy is relatively high in Africa. Hence, <strike><font color=red>diabetic peripheral neuropathy needs situation based intervention</font></strike> <font color=green>DPN needs situation-based interventions</font> and preventive strateg<strike><font color=red>y depending on their country context</font></strike> <font color=green>ies, which are specific to the country</font>. Further<strike><font color=red>more further</font></strike> meta-analysis <strike><font color=red>study is needed to identify associated factors for the occurrence of diabetic peripheral neuropathy. Key word: diabetic peripheral neuropathy diabetes mellitus Systematic review Meta-analysis Ethiopia.</font></strike> <font color=green>is needed to identify associated factors for the occurrence of diabetic peripheral neuropathy.</font>"
      ],
      "text/plain": [
       "<IPython.core.display.HTML object>"
      ]
     },
     "metadata": {},
     "output_type": "display_data"
    },
    {
     "name": "stdout",
     "output_type": "stream",
     "text": [
      " \n"
     ]
    }
   ],
   "source": [
    "from IPython.core.display import display, HTML\n",
    "\n",
    "for index, row in dataset.iterrows():\n",
    "    abs1 = row[\"v1 Preprint abstract\"]\n",
    "    abs2 = row[\"Paper abstract\"]\n",
    "    try:\n",
    "        change_ratio, out = show_diff(abs1,abs2)\n",
    "        if  change_ratio> 0.2:\n",
    "            print (\"Scored abstract change:\", row[\"Scored abstract change\"])\n",
    "            print (\"Computed change ratio:\", change_ratio)\n",
    "#            print (\" \")\n",
    "#            print (abs1)\n",
    "#            print (\" \")\n",
    "#            print (abs2)\n",
    "            print (\" \")\n",
    "            display(HTML(out))\n",
    "            print (\" \")\n",
    "            break\n",
    "            \n",
    "    except Exception as e:\n",
    "            continue"
   ]
  },
  {
   "cell_type": "code",
   "execution_count": null,
   "metadata": {},
   "outputs": [],
   "source": []
  },
  {
   "cell_type": "code",
   "execution_count": null,
   "metadata": {},
   "outputs": [],
   "source": []
  }
 ],
 "metadata": {
  "kernelspec": {
   "display_name": "Python 3",
   "language": "python",
   "name": "python3"
  },
  "language_info": {
   "codemirror_mode": {
    "name": "ipython",
    "version": 3
   },
   "file_extension": ".py",
   "mimetype": "text/x-python",
   "name": "python",
   "nbconvert_exporter": "python",
   "pygments_lexer": "ipython3",
   "version": "3.6.0"
  }
 },
 "nbformat": 4,
 "nbformat_minor": 2
}
