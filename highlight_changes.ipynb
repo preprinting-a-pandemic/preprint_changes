{
 "cells": [
  {
   "cell_type": "code",
   "execution_count": 20,
   "metadata": {},
   "outputs": [],
   "source": [
    "import pandas as pd\n",
    "import difflib\n",
    "dataset =  pd.read_csv('preprints_final_abstracts.csv')\n"
   ]
  },
  {
   "cell_type": "code",
   "execution_count": 76,
   "metadata": {},
   "outputs": [],
   "source": [
    "def show_diff(text, n_text):\n",
    "    \"\"\"\n",
    "    Based upon http://stackoverflow.com/a/788780\n",
    "    Unify operations between two compared strings seqm is a difflib.\n",
    "    SequenceMatcher instance whose a & b are strings\n",
    "    \"\"\"\n",
    "    \n",
    "    seqm = difflib.SequenceMatcher(None, text, n_text)\n",
    "    ratio = float(1.0 - seqm.ratio())\n",
    "    output= []\n",
    "    for opcode, a0, a1, b0, b1 in seqm.get_opcodes():\n",
    "        if opcode == 'equal':\n",
    "            output.append(seqm.a[a0:a1])\n",
    "        elif opcode == 'insert':\n",
    "            output.append(\"<font color=green>\" + seqm.b[b0:b1] + \"</font>\")\n",
    "        elif opcode == 'delete':\n",
    "            output.append(\"<strike><font color=red>\" + seqm.a[a0:a1] + \"</font></strike>\")\n",
    "        elif opcode == 'replace':\n",
    "            # seqm.a[a0:a1] -> seqm.b[b0:b1]\n",
    "            output.append(\"<strike><font color=red>\"+ seqm.a[a0:a1] + \"</font></strike> \"\"<font color=green>\" + seqm.b[b0:b1] + \"</font>\")\n",
    "        else:\n",
    "            raise (RuntimeError, \"unexpected opcode\")\n",
    "    return ratio, ''.join(output)"
   ]
  },
  {
   "cell_type": "code",
   "execution_count": 81,
   "metadata": {},
   "outputs": [
    {
     "name": "stdout",
     "output_type": "stream",
     "text": [
      "Scored abstract change: No change or minor: change in wording, if any, does not change main conclusion(s)\n",
      "Computed change ratio: 0.4515710205141522\n",
      " \n"
     ]
    },
    {
     "data": {
      "text/html": [
       "<strike><font color=red>Introduction: </font></strike> <font color=green>Background\n",
       "</font>Diabetes mellitus <font color=green>(DM) </font>is a global health care problem <strike><font color=red>and financially costly</font></strike> <font color=green>that can impose a substantial economic burden</font>. Diabetic peripheral neuropathy <strike><font color=red>is common and frequent cause of morbidity and disability. </font></strike> <font color=green>(</font>D<strike><font color=red>espite its serious complications</font></strike> <font color=green>PN) is a common microvascular complication of DM that increases the potential for morbidity and disability due to ulceration and amputation. Though there is a significant amount of variation in the primary studies on DM regarding the prevalence of DPN in Africa. Hence</font>,<strike><font color=red>limited evidence is available on the ma</font></strike> <font color=green> this study was aimed to estimate the overall prevalence of DPN in DM patients in Africa.\n",
       "\n",
       "Methods\n",
       "PubMed, Scopus, Goo</font>g<strike><font color=red>nitude of diabetic peripheral neuropathy among patient with diabetes mellitus. Hence the objective of this systematic review and meta-analysis was to estimate the pooled prevalence of diabetic peripheral neuropathy among patients with diabetes mellitus in</font></strike> <font color=green>le Scholar,</font> Africa<strike><font color=red>. Methods: PubMed Scopus Google Scholar Africa journal online</font></strike> <font color=green>n Journals OnLine,</font> WHO <strike><font color=red>afro library and</font></strike> <font color=green>African Library, and the</font> Cochrane <strike><font color=red>r</font></strike> <font color=green>R</font>eview were systematically searched online to retrieve related articles. The Preferred Reporting Items for Systematic Review and Meta-Analysis (PRISMA) guideline<font color=green>s</font> was followed. Heterogeneity across the included studies was evaluated by<font color=green> the</font> inconsistency index (I2). Publication bias was examined by funnel plot and Egger<font color=green>’s</font> regression test. The random-effect model was fitted to estimate the pooled prevalence of diabetic peripheral neuropathy among <strike><font color=red>diabetes mellitus patients.</font></strike> <font color=green>patients in</font> A<strike><font color=red>ll statistical </font></strike> <font color=green>frica. The meta-</font>analysis was <strike><font color=red>done</font></strike> <font color=green>performed</font> using<font color=green> the</font> STATA<strike><font color=red> v</font></strike> <font color=green>™ V</font>ersion 14 software<strike><font color=red> for windows. </font></strike> <font color=green>.\n",
       "\n",
       "</font>Results<strike><font color=red>: </font></strike> <font color=green>\n",
       "</font>Twenty-three studies which <strike><font color=red>comprises of</font></strike> <font color=green>includes</font> 269<strike><font color=red> </font></strike> <font color=green>,</font>691 participants were included in the meta-analysis. The overall pooled prevalence of diabetic peripheral neuropathy was 46% (95% CI:36.21<strike><font color=red>-</font></strike> <font color=green>–</font>55.78%). Based on the subgroup analysis<font color=green>,</font> the highest <strike><font color=red>magnitude of diabetic peripheral neuropathy</font></strike> <font color=green>prevalence of diabetic peripheral neuropathy in DM patients</font> was reported in West Africa<font color=green> at</font> 49.4% (95% CI: 32.74, 66.06).<strike><font color=red> </font></strike> <font color=green>\n",
       "\n",
       "</font>Conclusion<strike><font color=red>: </font></strike> <font color=green>\n",
       "</font>This study revealed that the overall prevalence of diabetic peripheral neuropathy is relatively high in Africa. Hence, <strike><font color=red>diabetic peripheral neuropathy needs situation based intervention</font></strike> <font color=green>DPN needs situation-based interventions</font> and preventive strateg<strike><font color=red>y depending on their country context</font></strike> <font color=green>ies, which are specific to the country</font>. Further<strike><font color=red>more further</font></strike> meta-analysis <strike><font color=red>study is needed to identify associated factors for the occurrence of diabetic peripheral neuropathy. Key word: diabetic peripheral neuropathy diabetes mellitus Systematic review Meta-analysis Ethiopia.</font></strike> <font color=green>is needed to identify associated factors for the occurrence of diabetic peripheral neuropathy.</font>"
      ],
      "text/plain": [
       "<IPython.core.display.HTML object>"
      ]
     },
     "metadata": {},
     "output_type": "display_data"
    },
    {
     "name": "stdout",
     "output_type": "stream",
     "text": [
      " \n",
      "Scored abstract change: Yes, significant: altered wording or numbers leading to a softening/strengthening of main conclusions(s)\n",
      "Computed change ratio: 0.514061478090255\n",
      " \n"
     ]
    },
    {
     "data": {
      "text/html": [
       "Multifocal <font color=green>(MF)/multicentric (MC) </font>breast cancer is generally considered to be where two or more breast tumours are present within the same breast, <strike><font color=red>but are clearly separated with no intervening in situ or invasive disease. It</font></strike> <font color=green>and</font> is seen in ~10% of breast cancer cases. This study investigates <strike><font color=red>multifocality</font></strike> <font color=green>the</font> prevalence <strike><font color=red>in</font></strike> <font color=green>of multifocality/multicentricity in a cohort of</font> BRCA1/2 muta<strike><font color=red>nt patients</font></strike> <font color=green>tion carriers with breast cancer from Northern Ireland</font> via cross<strike><font color=red>-</font></strike> <font color=green>‐</font>sectional analysis. Data from 211 women with BRCA1/2 mutations (<strike><font color=red>91 </font></strike>BRCA1<strike><font color=red>)</font></strike> <font color=green> ‐91</font>,<strike><font color=red> (120</font></strike> BRCA2<font color=green> ‐120</font>)<font color=green> and breast cancer were collected including age</font>, <strike><font color=red>with breast cancer were collected including age</font></strike> <font color=green>tumour focality</font>, <strike><font color=red>tumour focality</font></strike> <font color=green>size</font>, <strike><font color=red>siz</font></strike> <font color=green>typ</font>e, <strike><font color=red>type, grade,</font></strike> <font color=green>grade</font> and receptor profile. The prevalence of multifocal<font color=green>ity/multicentric</font>ity within this group was 25%<font color=green> but</font>,<strike><font color=red> but</font></strike> within subgroups, prevalence amongst BRCA2 carriers was more than double that of BRCA1 carriers (p<font color=green> </font>=<font color=green> </font>0.001). Women affected by <strike><font color=red>multifocal</font></strike> <font color=green>MF/MC</font> tumours had proportionately higher oestrogen receptor positivity (p<font color=green> </font>=<font color=green> </font>0.001)<strike><font color=red>,</font></strike> <font color=green> and</font> lower triple negativity (p<font color=green> </font>=<font color=green> </font>0.004)<strike><font color=red>, and were mo</font></strike> <font color=green>. These observations a</font>re likely to be <strike><font color=red>younger at diagnosis compared with those with unifocal tumours (p=0.039). Odds of a</font></strike> <font color=green>driven by the higher</font> BRCA2 <strike><font color=red>carrier d</font></strike> <font color=green>mutation pr</font>ev<strike><font color=red>eloping multifocal cancer</font></strike> <font color=green>alence observed</font> w<strike><font color=red>ere almost four-</font></strike> <font color=green>ithin this cohort. The odds of a BRCA2 carrier developing MF/MC cancer were almost four‐</font>fold higher than a BRCA1 carrier (<strike><font color=red>OR</font></strike> <font color=green>odds ratio</font>: 3.71, CI: 1.77<strike><font color=red> to </font></strike> <font color=green>–</font>7.78, p<font color=green> </font>=<font color=green> </font>0.001). <font color=green>These findings were subsequently validated in a second, large independent cohort of patients with BRCA ‐associated breast cancers from a UK‐wide multicentre study. This confirmed a significantly higher prevalence of MF/MC tumours amongst </font>BRCA2 <strike><font color=red>carriers sho</font></strike> <font color=green>mutation carriers compared </font>w<strike><font color=red> much greater multifocality than those carrying</font></strike> <font color=green>ith</font> BRCA1<font color=green> mutation carriers</font>. <strike><font color=red>Multifocal tumours are strongly associated with being both</font></strike> <font color=green>This has important implications for clinicians involved in the treatment of</font> BRCA2 <strike><font color=red>mutant and oestrogen receptor positi</font></strike> <font color=green>‐associated breast cancer, both in the diagnostic process, in ensuring that tumour focality is adequately assessed to facilitate treatment decision‐making, and for breast surgeons, particularly if breast conser</font>v<strike><font color=red>e</font></strike> <font color=green>ing surgery is being considered as a treatment option for these patients</font>."
      ],
      "text/plain": [
       "<IPython.core.display.HTML object>"
      ]
     },
     "metadata": {},
     "output_type": "display_data"
    },
    {
     "name": "stdout",
     "output_type": "stream",
     "text": [
      " \n",
      "Scored abstract change: No change or minor: change in wording, if any, does not change main conclusion(s)\n",
      "Computed change ratio: 0.5743626062322946\n",
      " \n"
     ]
    },
    {
     "data": {
      "text/html": [
       "Purpose<strike><font color=red>: </font></strike> <font color=green>\n",
       "</font>Spinal muscular atrophy (SMA), caused by loss of the <strike><font color=red>functional </font></strike>SMN1 gene<strike><font color=red> but retention of the paralogous SMN2 gene</font></strike>, is a leading <strike><font color=red>genetic </font></strike>cause of early childhood death. Due to the near identical sequences of SMN1 and<strike><font color=red> its paralog</font></strike> SMN2, analysis of this region <strike><font color=red>by standard NGS-based pipelines has been challenging historically</font></strike> <font color=green>is challenging</font>. P<strike><font color=red>reconception p</font></strike>opulation-wide SMA screening <strike><font color=red>of potential parents </font></strike>to quantify the<font color=green> SMN1</font> copy number (CN) <font color=green>is recommended by the American College of Medical Genetics and Genomics.\n",
       "\n",
       "Methods\n",
       "We developed a method that accurately identifies the CN </font>of SMN1 <strike><font color=red>is recommended</font></strike> <font color=green>and SMN2 using genome sequencing (GS) data</font> by <strike><font color=red>the American College of Medical Genetics. Methods: We de</font></strike> <font color=green>analyzing read depth and eight informati</font>ve<strike><font color=red>loped a novel informatics method that accurately identifies the CN of SMN1 and SMN2 using </font></strike> <font color=green> reference genome differences bet</font>w<strike><font color=red>hole-genome sequencing (WGS) data. This algorithm calculates the CNs of SMN1 and SMN2 using read depth and eight informative reference genome differences between SMN1 and SMN2. Results: We characterized</font></strike> <font color=green>een</font> SMN1/2<strike><font color=red> in a total of</font></strike> <font color=green>.\n",
       "\n",
       "Results\n",
       "We characterized SMN1/2 in</font> 12,747 genomes<strike><font color=red> sequenced to high depths (>30x) across five ethnic populations. Across these</font></strike> <font color=green>, identified 1568</font> samples w<strike><font color=red>e identified a total of </font></strike> <font color=green>ith SMN1 gains or losses and 6615 samples with SMN</font>2<strike><font color=red>51 (1317) samples with whole gene losses (gains) of SMN1 and 6241 (374) samples with losses (gains) of SMN2. We</font></strike> <font color=green> gains or losses, and</font> calculated a pan-ethnic carrier frequency of 2%, consistent with previous studies. Additionally, <strike><font color=red>we validated our CN calls and showed that all (48/48) SMN1 and </font></strike>9<font color=green>9.</font>8% <strike><font color=red>(4</font></strike> <font color=green>of our SMN1 and 99.</font>7<strike><font color=red>/4</font></strike> <font color=green>% of SMN2 CN calls agreed with orthogonal methods, with a recall of 100% for SMA and 97.</font>8<strike><font color=red>) of SMN2 </font></strike> <font color=green>% for carriers, and a precision of 100% for both SMA and carriers.\n",
       "\n",
       "</font>C<strike><font color=red>N calls agreed with those measured with digital PCR. Conclusion: </font></strike> <font color=green>onclusion\n",
       "</font>This <strike><font color=red>WGS</font></strike> <font color=green>SMN copy</font>-<strike><font color=red>based SMN copy </font></strike>number caller can be used to identify both carrier and affected status of SMA, enabling SMA testing to be offered as a comprehensive test in neonatal care and a<strike><font color=red>lso an accurate screening tool for carrier status in large-scale W</font></strike> <font color=green>n accurate carrier screening tool in </font>GS sequencing projects."
      ],
      "text/plain": [
       "<IPython.core.display.HTML object>"
      ]
     },
     "metadata": {},
     "output_type": "display_data"
    },
    {
     "name": "stdout",
     "output_type": "stream",
     "text": [
      " \n",
      "Scored abstract change: Yes, significant: altered wording or numbers leading to a softening/strengthening of main conclusions(s)\n",
      "Computed change ratio: 0.9137717121588089\n",
      " \n"
     ]
    },
    {
     "data": {
      "text/html": [
       "Background<strike><font color=red> </font></strike> <font color=green>\n",
       "</font>The English Indices of Multiple Deprivation (IMD) is widely used as a measure of deprivation<strike><font color=red> of geographic areas in ana</font></strike> <font color=green>. However, similar</font>ly<strike><font color=red>ses of health ine</font></strike> <font color=green> ranked areas can differ substantially in the underlying domains of deprivation. These domains contain a richer set of data that might be useful for classifying local authorities. Clustering methods offer a set of techni</font>qu<strike><font color=red>alities</font></strike> <font color=green>es to identify groups of areas with similar patterns of deprivation.\n",
       "\n",
       "Methods\n",
       "Hierarchical agglomerative (i.e.</font> b<strike><font color=red>et</font></strike> <font color=green>ottom-up) clustering methods </font>we<strike><font color=red>en plac</font></strike> <font color=green>re applied to domain scores for 152 upper tier local authoriti</font>es. <strike><font color=red>H</font></strike> <font color=green>Advances in statistical testing all</font>ow<strike><font color=red>eve</font></strike> <font color=green> clusters to be identified that are unlikely to have arisen from random partitioning of a homogeneous group. The resulting clusters are described in terms of their subdomain scores and basic geographic and demographic characteristics.\n",
       "\n",
       "Results\n",
       "Five statistically significant clusters of local authorities were identified. These clusters only partially reflect different levels of overall deprivation. In particula</font>r, <strike><font color=red>similarly ranked areas can differ substantially in the underlying subdomains and indicators that are used to calculate the</font></strike> <font color=green>two clusters share similar overall</font> IMD score<font color=green>s but have contrasting patterns of deprivation</font>.<font color=green>\n",
       "\n",
       "Conclusion\n",
       "Hierarchical clustering methods identify five distinct clusters that do not correspond closely to quintiles of deprivation.</font> Th<strike><font color=red>ese su</font></strike> <font color=green>is approach may help to distinguish </font>b<strike><font color=red>domains and indicators contain a richer set of data that might</font></strike> <font color=green>etween places that face similar underlying challenges, and places that appear similar in terms of overall deprivation scores,</font> b<strike><font color=red>e useful for classifying local authoriti</font></strike> <font color=green>ut that face different challeng</font>es.<strike><font color=red> Clustering methods offer a set of techniques to identify groups of areas with similar patterns of deprivation. This could offer insights into areas that face similar challenges. Methods Hierarchical agglomerative (i.e. bottom-up) clustering methods were applied to sub-domain scores for 152 upper-tier local authorities. Recent advances in statistical testing allow clusters to be identified that are unlikely to have arisen from random partitioning of a homogeneous group. The resulting clusters are described in terms of their subdomain scores and basic geographic and demographic characteristics. Results Five statistically significant clusters of local authorities were identified. These clusters represented local authorities that were: (i) Most deprived, predominantly urban; (ii) Least deprived, predominantly rural; (iii) Less deprived, rural; (iv) Deprived, high crime, high barriers to housing; and (v) Deprived, low education, poor employment, poor health. Conclusion Hierarchical clustering methods identify five distinct clusters that do not correspond closely to quintiles of deprivation. These methods can be used to draw on the richer set of information contained in the IMD subdomains and may help to identify places that face similar challenges, and places that appear similar in terms of IMD scores, but that face different challenges.</font></strike>"
      ],
      "text/plain": [
       "<IPython.core.display.HTML object>"
      ]
     },
     "metadata": {},
     "output_type": "display_data"
    },
    {
     "name": "stdout",
     "output_type": "stream",
     "text": [
      " \n",
      "Scored abstract change: Yes, significant: altered wording or numbers leading to a softening/strengthening of main conclusions(s)\n",
      "Computed change ratio: 0.4486117876278617\n",
      " \n"
     ]
    },
    {
     "data": {
      "text/html": [
       "Patients with major depressive disorder (MDD) show heterogeneous treatment response and highly variable clinical trajectories: while some patients experience swift <strike><font color=red>and enduring </font></strike>recovery, others show relapsing-remitting or chronic <strike><font color=red>disease course</font></strike> <font color=green>courses</font>. Predicting individual clinical trajectories at an early <strike><font color=red>disease </font></strike>stage is a key challenge for psychiatry and might facilitate individually tailored interventions. So far, however, reliable predictors at the single-patient level are absent. Here, we evaluated the utility of a machine learning strategy <strike><font color=red>- generative embedding - which combines an interpretable generative model with a discriminative classifier</font></strike> <font color=green>– generative embedding (GE) – which combines interpretable generative models with discriminative classifiers</font>. Specifically, we used functional magnetic resonance imaging (fMRI) data of emotional face perception in 85 MDD patients from the<strike><font color=red> multi-site longitudinal</font></strike> NEtherlands Study of Depression and Anxiety (NESDA) who had been followed up over two years and classified into three subgroups with distinct clinical trajectories. Combining a generative model of effective (directed) connectivity with support vector machines (SVMs), <strike><font color=red>it was possible to predict whether a given patient will</font></strike> <font color=green>we could predict whether a given patient would</font> experience chronic depression vs. fast remission with a balanced accuracy of 79%. Gradual improvement vs. fast remission could still be predicted above-chance, but less convincingly, with a balanced accuracy of 61%. <strike><font color=red>Importantly</font></strike> <font color=green>Generative embedding outperformed classification based on conventional (descriptive) features</font>, <strike><font color=red>generative embedding outperformed conventional (descriptive) measures such as functional connectivity or local B</font></strike> <font color=green>such as functional connectivity or local activation estimates, which were obtained from the same data and did not allow for above-chance classification accuracy. Furthermore, predictive performance of GE could be assigned to a specific network property: the trial-by-trial modulation of connections by emotional content. Given the limited sample size of our study, the present results are preliminary but may serve as proof-of-concept, illustrating the potential of GE for obtaining clinical predictions that are interpretable in terms of network mechanisms. </font>O<strike><font color=red>LD activity, which did not predict clinical trajectories with above-chance accuracy</font></strike> <font color=green>ur findings suggest that abnormal dynamic changes of connections involved in emotional face processing might be associated with higher risk of developing a less favorable clinical course</font>.<strike><font color=red> Furthermore, the predictive performance of generative embedding could be assigned to a specific network property: the dynamic modulation of connections by the emotional content of the trial-by-trial stimuli. Our findings suggest that a mechanistically informed generative model of a neuronal circuit underlying emotional face perception may have predictive utility for distinguishing disease courses in MDD patients.</font></strike>"
      ],
      "text/plain": [
       "<IPython.core.display.HTML object>"
      ]
     },
     "metadata": {},
     "output_type": "display_data"
    },
    {
     "name": "stdout",
     "output_type": "stream",
     "text": [
      " \n",
      "Scored abstract change: Yes, significant: altered wording or numbers leading to a softening/strengthening of main conclusions(s)\n",
      "Computed change ratio: 0.7145098039215687\n",
      " \n"
     ]
    },
    {
     "data": {
      "text/html": [
       "Background.<strike><font color=red> The degree of cognitive impairment associated with lifetime M</font></strike> <font color=green>\n",
       "Cognitive impairment associated with lifetime m</font>ajor <strike><font color=red>Depressive D</font></strike> <font color=green>depressive d</font>isorder (MDD) <strike><font color=red>remains uncertain</font></strike> <font color=green>is well-supported by meta-analytic studies, but population-based estimates remain scarce</font>. Previous UK Biobank studies have only shown limited evidence <strike><font color=red>for population-level cognitive differences associated with</font></strike> <font color=green>of cognitive differences related to</font> probable MDD. <strike><font color=red>Here, we used an updated range of cognitive tasks and clinical assessment criteria</font></strike> <font color=green>Using updated cognitive and clinical assessments</font> in UK Biobank<strike><font color=red> to investigate whether there are differences in cognitive function</font></strike> <font color=green>, this study investigated population-level differences in cognitive functioning</font> associated with lifetime MDD.<strike><font color=red> </font></strike> <font color=green>\n",
       "\n",
       "</font>Methods.<strike><font color=red> </font></strike> <font color=green>\n",
       "</font>Associations between lifetime MDD and cognition (performance on six tasks and <strike><font color=red>a general (g) factor</font></strike> <font color=green>general cognitive functioning [g-factor]</font>) were investigated in UK Biobank (N<strike><font color=red> </font></strike> <font color=green>-</font>range 7,457<strike><font color=red>-</font></strike> <font color=green>–</font>14,836, age 45<strike><font color=red>-</font></strike> <font color=green>–</font>81 years, 52% female), adjusting for demographic<strike><font color=red>, education</font></strike> <font color=green>s, education,</font> and lifestyle. <strike><font color=red>Classification of l</font></strike> <font color=green>L</font>ifetime MDD <strike><font color=red>was</font></strike> <font color=green>classifications were</font> based on the Composite International Diagnostic Interview<strike><font color=red> (CIDI-SF)</font></strike>. Within the lifetime MDD group, we additionally <strike><font color=red>explor</font></strike> <font color=green>investigat</font>ed relationships between cognition and (<strike><font color=red>i</font></strike> <font color=green>a</font>) recurren<strike><font color=red>t</font></strike> <font color=green>ce, (b) current symptoms, (c) severity of psychosocial impairment (while symptomatic), and (d) concurrent psychotropic medication use.\n",
       "\n",
       "Results.\n",
       "Lifetime</font> MDD<strike><font color=red>,</font></strike> <font color=green> was robustly associated with a lower g-factor</font> (<strike><font color=red>ii</font></strike> <font color=green>β = −0.10, PFDR = 4.7 × 10−5</font>)<strike><font color=red> current</font></strike> <font color=green>, with impairments in attention, processing speed, and executive functioning (β ≥ 0.06). Clinical characteristics revealed differential profiles of cognitive impairment among case individuals; those who reported severe psychosocial impairment and use of psychotropic medication performed worse on cognitive tests. Severe psychosocial impairment and reasoning showed the strongest association (β = −0.18, PFDR = 7.5 × 10−5).\n",
       "\n",
       "Conclusions.\n",
       "Findings describe small but robust associations between lifetime</font> MDD <strike><font color=red>s</font></strike> <font color=green>and lower cognitive performance within a population-based sample. Overall effects were of modest effect size, suggesting limited clinical relevance. However, deficits within specific cognitive domains were more pronounced in relation to clinical characteristics, particularl</font>y<strike><font color=red>mptoms, (iii) severit</font></strike> <font color=green> severe ps</font>y<strike><font color=red> of psychosocial impairment (while symptomatic), and (iv) concurrent psychotropic medication use Results. Lifetime MDD was robustly associated with a lower g-factor (β = -0.10, q = 4.7∙10-5), with significant impairments in attention, processing speed and executive functioning (β ≥ 0.06). Analysis within the lifetime MDD group indicated that case individuals with severe psychosocial impairment had significantly lower g-factor (β = -0.14, P = 1.5∙10-2), with greatest impairments in reasoning (β = -0.18, q = 7.5∙10-5). Other clinical characteristics showed differential profiles of cognitive impairment across cognitive domains. Conclusions. These findings reveal a modest negative association between lifetime MDD and cognitive performance. Specific cognitive domains showed greater deficits in relation to MDD characteristics, with greatest effects relating to psychosocial impairment.</font></strike> <font color=green>chosocial impairment.</font>"
      ],
      "text/plain": [
       "<IPython.core.display.HTML object>"
      ]
     },
     "metadata": {},
     "output_type": "display_data"
    },
    {
     "name": "stdout",
     "output_type": "stream",
     "text": [
      " \n",
      "Scored abstract change: Yes, major: a discrete change in the main conclusion(s)\n",
      "Computed change ratio: 0.6113719353155973\n",
      " \n"
     ]
    },
    {
     "data": {
      "text/html": [
       "Background: Hypertension is a common vascular disease and the main risk factor for cardiovascular diseases. <strike><font color=red>The impact of hypertension is on the rise</font></strike> <font color=green>Since the incidence of hypertension is rising</font> in Ethiopia, <strike><font color=red>so that</font></strike> <font color=green>one may expect that the household’s cost of healthcare services related to the disease will increase in the near future. Yet the cost associated with the disease is not known. We aimed to estimate the total cost of hypertension illness and identify associated factors among patients attending hospitals in Southwest Shewa zone</font>, <strike><font color=red>it is predicta</font></strike> <font color=green>Oromia regional state, Ethiopia.\n",
       "Patients and Methods: An institution-</font>b<strike><font color=red>le that the cost of healthcare services</font></strike> <font color=green>ased cross-sectional study design</font> w<strike><font color=red>ill further increase in the future. We aimed to estimate the total cost of hypertension illness amon</font></strike> <font color=green>as employed to conduct the study from 13 Au</font>g<strike><font color=red> patients attending hospitals in</font></strike> <font color=green>ust to 2</font> S<strike><font color=red>outhwest Shewa zone, Oromia Regional State, Ethiopia. Patients and methods: Institution </font></strike> <font color=green>eptem</font>b<strike><font color=red>ased cross-sectional study was conducted from July 1-30,</font></strike> <font color=green>er</font> 2018. All hypertensive patients <font color=green>aged 18 years and older </font>who were on <strike><font color=red>treatment and </font></strike> <font color=green>follo</font>w<strike><font color=red>hose a</font></strike> <font color=green>-up were eli</font>g<strike><font color=red>e</font></strike> <font color=green>ible for this study. The total cost of hypertension illness</font> was <font color=green>estimated by summin</font>g<strike><font color=red>reater than ei</font></strike> <font color=green> the direct and indirect costs. Bivariate and multivariate linear re</font>g<strike><font color=red>hteen years old</font></strike> <font color=green>ression analyses</font> were <strike><font color=red>eligible for this</font></strike> <font color=green>performed to identify factors associated with hypertension costs of illnesses.\n",
       "Results: A total of 349 patients participated in the</font> study. T<strike><font color=red>he total cost of hypertension illness was estimated by summing up the direct and indirect costs. Bivariate and multivariate linear regression analysis was conducted to identify factors associated with hypertension costs of illness. Results: Overall, t</font></strike>he mean monthly total cost of hypertension illness was US<strike><font color=red> </font></strike>$ 22.3 (95% CI, 21.3<strike><font color=red>-</font></strike> <font color=green>– </font>23.3). Direct and indirect costs <strike><font color=red>shar</font></strike> <font color=green>constitut</font>e 51% and 49% of the total cost, respectively. The mean <strike><font color=red>total </font></strike>direct cost of hypertension illness per patient per month was US <font color=green>US</font>$<font color=green> </font>11.39<font color=green> </font>(95% CI, 10.6<strike><font color=red>-</font></strike> <font color=green>– </font>12.1). Out of these, drugs <strike><font color=red>accounted of a</font></strike> <font color=green>comprised</font> higher cost (31%)<font color=green>,</font> followed by food (25%). The mean <strike><font color=red>total </font></strike>indirect cost per patient per month was US<strike><font color=red> </font></strike>$<font color=green> </font>10.89<font color=green> </font>(95% CI,<strike><font color=red> </font></strike>10.4<strike><font color=red>-</font></strike> <font color=green>– </font>11.4). <strike><font color=red>Educational status</font></strike> <font color=green>In this study</font>, <strike><font color=red>distance from hospital</font></strike> <font color=green>the primary educational status</font>, <strike><font color=red>the presence of companion and the</font></strike> <font color=green>family size (4– 6 and > 6), distance from hospital (≥ 10 km), the presence of a companion and</font> stage of hypertension <font color=green>(stage t</font>w<strike><font color=red>ere predictors of the cost of illness of hypertension. </font></strike> <font color=green>o) of patients were identified as the predictors of the cost of hypertension illnesses.\n",
       "</font>Conclusion: The cost of hypertension illness was very high when compared <strike><font color=red>with the mean monthly income of the patients lett</font></strike> <font color=green>to the monthly income of households, expos</font>ing patients to catastrophic costs. <strike><font color=red>Therefor</font></strike> <font color=green>Henc</font>e, <strike><font color=red>due attention should b</font></strike> <font color=green>th</font>e g<strike><font color=red>i</font></strike> <font color=green>o</font>ve<strike><font color=red>n by the</font></strike> <font color=green>rnment should</font> g<strike><font color=red>o</font></strike> <font color=green>i</font>ve<strike><font color=red>rnment to protect patients from financial hardships. Key words: Illness, total cost, direct cost, indirect cost, Region, Ethiopia.</font></strike> <font color=green> due attention to protect patients from catastrophic health expenditures.\n",
       "</font>"
      ],
      "text/plain": [
       "<IPython.core.display.HTML object>"
      ]
     },
     "metadata": {},
     "output_type": "display_data"
    },
    {
     "name": "stdout",
     "output_type": "stream",
     "text": [
      " \n",
      "Scored abstract change: Yes, major: a discrete change in the main conclusion(s)\n",
      "Computed change ratio: 0.8311444652908068\n",
      " \n"
     ]
    },
    {
     "data": {
      "text/html": [
       "<strike><font color=red>Potential transmissi</font></strike> <font color=green>On 5 Fe</font>b<strike><font color=red>ilit</font></strike> <font color=green>ruar</font>y<strike><font color=red> of asymptomatic</font></strike> 20<font color=green>20, in Yokohama, Japan, a cruise ship hosting 3,711 people underwent a 2-week quarantine after a former passenger was found with COVID-</font>19 <strike><font color=red>No</font></strike> <font color=green>post-disembarking. As at 20 February, 634 persons on board tested positi</font>ve<strike><font color=red>l Corona</font></strike> <font color=green> for the causati</font>v<strike><font color=red>irus infection and a substantial asymptomatic ratio ha</font></strike> <font color=green>e </font>v<strike><font color=red>e been reported in clinical studies. Employ</font></strike> <font color=green>irus. We conducted statistical modell</font>ing <strike><font color=red>a statistical modeling analysis, we</font></strike> <font color=green>to</font> derive<strike><font color=red>d a</font></strike> <font color=green> the</font> delay-adjusted asymptomatic <strike><font color=red>ratio of the positive 20</font></strike> <font color=green>proportion of infections, along with the infections’ timeline. The estimated asymptomatic proportion was </font>1<font color=green>7.</font>9<strike><font color=red>-nCoV infections onboard the Princess Cruises ship along with the timeline of infections. We estimated the percentage of cases that are asymptomatic to be 34.6</font></strike>% (95% <font color=green>credible interval (</font>CrI<font color=green>)</font>:<strike><font color=red> </font></strike> <font color=green> 15.5–</font>2<strike><font color=red>9.4%-39.8</font></strike> <font color=green>0.2</font>%)<strike><font color=red>, with most of the infections occurring</font></strike> <font color=green>. Most infections occurred</font> before the <strike><font color=red>start of the 2-week </font></strike>quarantine<strike><font color=red>.</font></strike> <font color=green> start.</font>"
      ],
      "text/plain": [
       "<IPython.core.display.HTML object>"
      ]
     },
     "metadata": {},
     "output_type": "display_data"
    },
    {
     "name": "stdout",
     "output_type": "stream",
     "text": [
      " \n",
      "Scored abstract change: No change or minor: change in wording, if any, does not change main conclusion(s)\n",
      "Computed change ratio: 0.5596956179480451\n",
      " \n"
     ]
    },
    {
     "data": {
      "text/html": [
       "<strike><font color=red>O</font></strike>B<strike><font color=red>JECTIVE To re</font></strike> <font color=green>ackground\n",
       "Recent studies ha</font>ve<strike><font color=red>al more data on the epidemiologic and clinical characteristics of</font></strike> <font color=green> focused on initial clinical and epidemiological characteristics of the</font> coronavirus disease 2019 (COVID-19)<strike><font color=red> patients outside of</font></strike> <font color=green>, which is the mainly revealing situation in</font> Wuhan, <strike><font color=red>from fi</font></strike> <font color=green>Hubei.\n",
       "\n",
       "Aim\n",
       "This study aims to re</font>ve<strike><font color=red> hospitals in east of Zhejiang province, China. DESIGN Retrospective case series. SETTING Five hospitals in east of Zhejiang province, China. PARTICIPANTS 88 cases of laboratory-confirmed and 3 cases of clinical-confirmed</font></strike> <font color=green>al more data on the epidemiological and clinical characteristics of</font> COVID-19 <strike><font color=red>were admitted to hospital. </font></strike> <font color=green>patients outside of Wuhan, Zhejiang, China.\n",
       "\n",
       "</font>D<strike><font color=red>ata were collected from 20 January 2020 to 11 Fe</font></strike> <font color=green>esign\n",
       "This study was a retrospective case series.\n",
       "\n",
       "Methods\n",
       "Eighty-eight cases of la</font>b<strike><font color=red>ruary 2020. MAIN OUTCOME MEASURES A team of physicians who had been treating these patients extracted and recorded the exposure history, clinical symptoms, chest computed tomography and laboratory findings from medical records and sent the data to the working group in Ningbo to review and calculate. RESULTS Of all 91 patients, 88 (96.70%) were lab</font></strike>oratory-<font color=green>confirmed and three cases of clinically </font>confirmed COVID-19 <strike><font color=red>pneumonia with throat swa</font></strike> <font color=green>were admitted to five hospitals in Zhejiang province, China. Data were collected from 20 January 2020 to 11 Fe</font>b<strike><font color=red> samples that tested positive for SA</font></strike> <font color=green>ruary 2020.\n",
       "\n",
       "</font>R<strike><font color=red>S-Cov-2 while 3</font></strike> <font color=green>esults and discussion\n",
       "Of all 91 patients, 88</font> (<strike><font color=red>3.3</font></strike> <font color=green>96.7</font>0%) were <strike><font color=red>clinical</font></strike> <font color=green>laboratory</font>-<strike><font color=red>diagnos</font></strike> <font color=green>confirm</font>ed COVID-19 <strike><font color=red>pneumonia cases</font></strike> <font color=green>with throat swab samples that tested positive for SARS-Cov-2, three (3.30%) cases were clinically diagnosed</font>. The median age of the patients was 50 (36.5<strike><font color=red>-</font></strike> <font color=green>–</font>57) years, and female accounted for 59.34%. In this sample<font color=green>,</font> 40 (43.96%) patients had contracted the disease<strike><font color=red>s</font></strike> from local cases, 31 (34.07%) patients had been to Wuhan/Hubei, <strike><font color=red>8</font></strike> <font color=green>eight</font> (8.79%) <strike><font color=red>case</font></strike> <font color=green>patient</font>s had contacted with people from Wuhan,<font color=green> and</font> 11 (12.09%) <strike><font color=red>cases were confirmed aircraft transmiss</font></strike> <font color=green>patients were diagnosed after having flown together in the same flight with no passenger that could later be identified as the source of infect</font>ion. In particular within the city of Ningbo, 60.52% cases can be traced back to an event held in a temple. The most common symptoms were fever (71.43%), cough (60.44%) and fatigue (43.96%). The median of incubation period was 6 (<strike><font color=red>IQR,</font></strike> <font color=green>interquartile range</font> 3<strike><font color=red>-</font></strike> <font color=green>–</font>8) days and the median time from <font color=green>the </font>first visit to a doctor to<font color=green> the</font> confirmed diagnosis was 1 (1<strike><font color=red>-</font></strike> <font color=green>–</font>2) days. According to the <strike><font color=red>C</font></strike> <font color=green>c</font>hest computed tomography scans, 67.03% cases had bilateral pneumonia<font color=green>.\n",
       "\n",
       "Conclusions\n",
       "Social activity cluster</font>, <strike><font color=red>and 27.47% cases showed unilateral pneumonia. CONCLUSION Social activity cluster, family cluster and travel by airplane were how</font></strike> <font color=green>family cluster and flying alongside with persons already infected with</font> COVID-19 <strike><font color=red>patients get transmitted and could be rapidly diagnosed</font></strike> <font color=green>were how people got infected with</font> COVID-19 in Zhejiang."
      ],
      "text/plain": [
       "<IPython.core.display.HTML object>"
      ]
     },
     "metadata": {},
     "output_type": "display_data"
    },
    {
     "name": "stdout",
     "output_type": "stream",
     "text": [
      " \n",
      "Scored abstract change: No change or minor: change in wording, if any, does not change main conclusion(s)\n",
      "Computed change ratio: 0.9014373716632443\n",
      " \n"
     ]
    },
    {
     "data": {
      "text/html": [
       "<strike><font color=red>Using mathematical modeling and time-series incidence data describing the trajectory</font></strike> <font color=green>An outbreak</font> of<strike><font color=red> the outbreak among passengers and crew members, we characterize the transmission potential of the</font></strike> COVID-19 <strike><font color=red>outbreak</font></strike> <font color=green>developed</font> aboard the Princess Cruises Ship<strike><font color=red>,</font></strike> <font color=green> during</font> January<strike><font color=red>-</font></strike> <font color=green>–</font>February 2020. <font color=green>Using mathematical modeling and time-series incidence data describing the trajectory of the outbreak among passengers and crew members, we characterize how the transmission potential varied over the course of the outbreak. Our estimate of the mean reproduction number in the confined setting reached values as high as ~11, which is higher than mean estimates reported from community-level transmission dynamics in China and Singapore (approximate range: 1.1–7). Our findings suggest that Rt decreased substantially compared to values during the early phase after the Japanese government implemented an enhanced quarantine control. Most recent estimates of Rt reached values largely below the epidemic threshold, indicating that a secondary outbreak of the novel coronavirus was unlikely to occur aboard the Diamond </font>Pr<strike><font color=red>obably due to the enhanced quarantine control, overall Rt decreased substantially compared to values during the early stage, but it exhibited fluctuations around the epidemic threshold, which suggests a very low probability of observing secondary outbreaks of the disease</font></strike> <font color=green>incess Ship</font>."
      ],
      "text/plain": [
       "<IPython.core.display.HTML object>"
      ]
     },
     "metadata": {},
     "output_type": "display_data"
    },
    {
     "name": "stdout",
     "output_type": "stream",
     "text": [
      " \n",
      "Scored abstract change: Yes, major: a discrete change in the main conclusion(s)\n",
      "Computed change ratio: 0.8507235338918507\n",
      " \n"
     ]
    },
    {
     "data": {
      "text/html": [
       "B<font color=green>ackground & </font>A<strike><font color=red>CKGROUND: A recent outbreak of</font></strike> <font color=green>ims\n",
       "Some patients with</font> SARS-CoV-2 infection <strike><font color=red>occurs mainl</font></strike> <font color=green>have abnormal liver function. We aimed to clarif</font>y <strike><font color=red>in China, with rapidly increasing the number of cases (namely COVID-19). Abnormal liver functions are frequently present in these patients, here we aimed to clarify the clinical</font></strike> <font color=green>the</font> features of COVID-19-related liver damage to provide <strike><font color=red>some references for the clinical treatment. </font></strike> <font color=green>references for clinical treatment.\n",
       "\n",
       "</font>M<strike><font color=red>ETHODS: In this</font></strike> <font color=green>ethods\n",
       "We performed a</font> retrospective, single-center study<strike><font color=red>,</font></strike> <font color=green> of 148 consecutive patients</font> w<strike><font color=red>e included all</font></strike> <font color=green>ith</font> confirmed COVID-19 <strike><font color=red>cases in</font></strike> <font color=green>(73 female, 75 male; mean age, 50 years) at the</font> Shanghai Public Health Clinical Center from January 20 t<strike><font color=red>o</font></strike> <font color=green>hrough</font> January 31, 2020. <strike><font color=red>The</font></strike> <font color=green>Patient</font> outcomes were followed<strike><font color=red> up</font></strike> until February 19, 2020. <font color=green>Patients were analyzed for clinical features, laboratory parameters (including liver function tests), medications, and length of hospital stay. </font>A<strike><font color=red> total of</font></strike> <font color=green>bnormal liver function was defined as increased levels of alanine and aspartate aminotransferase, gamma glutamyltransferase, alkaline phosphatase, and total bilirubin.\n",
       "\n",
       "Results\n",
       "Fifty-five patients (37.2%) had abnormal liver function at hospital admission;</font> 14<strike><font color=red>8 cases were analyzed for clinical features, laboratory parameters</font></strike> <font color=green>.5% of these patients had high fever</font> (<strike><font color=red>including liver function tests</font></strike> <font color=green>14.5%</font>), <strike><font color=red>medications and the length of sta</font></strike> <font color=green>compared with 4.3% of patients with normal liver function (P = .027). Patients with abnormal liver function were more likel</font>y<strike><font color=red>. FINDINGS: Of </font></strike> <font color=green> to be male, and had higher levels of procalcitonin and C-reactive protein. There was no statistical difference between groups in medications taken before hospitalization; a significantly higher proportion of patients with abnormal liver function (57.8%) had received lopinavir/ritonavir after admission compared to patients with normal liver function (31.3%). Patients with abnormal liver function had longer mean hospital stays (15.09 ± 4.79 days) than patients with normal liver function (12.76 ± 4.</font>14<strike><font color=red>8 confirmed</font></strike> <font color=green> days) (P = .021).\n",
       "\n",
       "Conclusions\n",
       "More than one third of patients admitted to the hospital with</font> SARS-CoV-2<strike><font color=red>-infected patients</font></strike> <font color=green> infection have abnormal liver function</font>, <strike><font color=red>49.3%</font></strike> <font color=green>and this is associated</font> w<strike><font color=red>ere females and 50.7%</font></strike> <font color=green>ith longer hospital stay. A significantly higher proportion of patients</font> w<strike><font color=red>ere males. The median age</font></strike> <font color=green>ith abnormal liver function had received lopinavir/ritonavir after admission; these drugs should be given</font> w<strike><font color=red>as 50.5 years (interquartile range, 36-64). Patients had clinical manifestations of fever (70.1%), cough (45.3%), expectoration (26.7%) at admission. 75 patients (50.7%) showed abnormal liver functions at admission, characterized by an increased of 具体那些升高alt, ast, GGT, AKP等. Patients (n = 75) who had elevated liver function index were more likely to have a moderate-high degree fever (44% vs 27.4%; p = 0.035) and significantly present in male patients (62.67% vs 38.36%; p = 0.005). The numbers of CD4+ and CD8+ T cells were significantly lower in abnormal liver function group than those in normal liver function group. There was no statistical difference in prehospital medications between normal and abnormal liver function groups, while the utilization rate of lopinavir/ritonavir after admission was significantly higher in patients with emerging liver injury than that in patients with normal liver functions. Importantly, the emerging abnormal liver functions after admission caused a prolonged length of stay. INTERPRETATION: SARS-CoV-2 may cause the liver function damage and the Lopinavir/ritonavir should be applied carefully for the treatment of COVID-19.</font></strike> <font color=green>ith caution.</font>"
      ],
      "text/plain": [
       "<IPython.core.display.HTML object>"
      ]
     },
     "metadata": {},
     "output_type": "display_data"
    },
    {
     "name": "stdout",
     "output_type": "stream",
     "text": [
      " \n",
      "Scored abstract change: No change or minor: change in wording, if any, does not change main conclusion(s)\n",
      "Computed change ratio: 0.5675479898587468\n",
      " \n"
     ]
    },
    {
     "data": {
      "text/html": [
       "<strike><font color=red>Background: </font></strike> <font color=green>The Coronavirus Disease 2019 (</font>COVID-19<font color=green>)</font> outbreak is spreading globally. Although<strike><font color=red> the risk of infection in the US is currently low, it is important to understand the public perception of risk and trust in sources of information to better inform public health messaging. In this study, we surveyed the adult US population to understand their risk perceptions about the</font></strike> COVID-19 <strike><font color=red>out</font></strike> <font color=green>has now </font>b<strike><font color=red>rea</font></strike> <font color=green>een declared a pandemic and ris</font>k<strike><font color=red>. Methods and Findings: We used an online platform to survey 718 adults in the </font></strike> <font color=green> for infection in the United States (</font>US<strike><font color=red> in ear</font></strike> <font color=green>) is current</font>ly <strike><font color=red>Februar</font></strike> <font color=green>high, at the time of surve</font>y <strike><font color=red>2020 using a questionnaire that we developed. Our sample was fairly similar to the general adult</font></strike> <font color=green>administration the risk of infection in the</font> US <strike><font color=red>population in terms of </font></strike> <font color=green>was low. It is important to understand the public perception of risk and trust in sources of information to better inform public health mess</font>ag<strike><font color=red>e</font></strike> <font color=green>ing. In this study</font>, <strike><font color=red>gender, race, ethnicit</font></strike> <font color=green>we surve</font>y<strike><font color=red> and education. We found that 69% of the respondents wanted the scientific/public health leadership (either the CDC Director or NIH Director) to lead the</font></strike> <font color=green>ed the adult</font> US <strike><font color=red>response to</font></strike> <font color=green>population to understand their risk perceptions about the</font> COVID-19 outbreak<font color=green>. We used an online platform to survey 718 adults in the US in early February 2020 using a questionnaire that we developed. Our sample was fairly similar to the general adult US population in terms of age, gender, race, ethnicity and education. We found that 69% of the respondents wanted the scientific/public health leadership (either the CDC Director or NIH Director) to lead the US response to COVID-19 outbreak</font> as compared to 14% who wanted the political leadership (either the president or<strike><font color=red> the</font></strike> Congress) to lead the response. Risk perception was low (median score of 5 out of 10) with the respondents trusting health professionals and health officials for information on COVID-19. <strike><font color=red>M</font></strike> <font color=green>The m</font>ajority of<strike><font color=red> the</font></strike> respondents were in favor of strict infection prevention policies to control the outbreak.<strike><font color=red> Conclusion:</font></strike> Given our results, the public health/scientific leadership should be at the forefront of the COVID-19 response to promote trust."
      ],
      "text/plain": [
       "<IPython.core.display.HTML object>"
      ]
     },
     "metadata": {},
     "output_type": "display_data"
    },
    {
     "name": "stdout",
     "output_type": "stream",
     "text": [
      " \n",
      "Scored abstract change: Yes, significant: altered wording or numbers leading to a softening/strengthening of main conclusions(s)\n",
      "Computed change ratio: 0.7334970832054037\n",
      " \n"
     ]
    },
    {
     "data": {
      "text/html": [
       "A <strike><font color=red>coronavirus identified as</font></strike> <font color=green>new coronavirus, known as severe acute respiratory syndrome coronavirus 2 (SARS-CoV-2), is the aetiological agent responsible for the</font> 2019<strike><font color=red> novel coronavirus</font></strike> <font color=green>–2020 viral pneumonia outbreak of coronavirus disease 2019</font> (COVID-19)<strike><font color=red> is the etiological agent respons</font></strike> <font color=green>1,2,3,4. Currently, there are no targeted therapeutic agents for the treatment of this disease, and effective treatment options remain very limited. Here we descr</font>ib<strike><font color=red>le for the 2019</font></strike> <font color=green>e the results of a programme that aimed to rapidly discover lead compounds for clinical use, by combining structure-assisted drug design, virtual drug screening and high-throughput screening. This programme focused on identifying drug leads that target main protease (Mpro) of SARS-CoV</font>-2<strike><font color=red>0</font></strike> <font color=green>: Mpro is a key enzyme of coronaviruses and has a pivotal role in mediating viral replication and transcription, making it an attractive drug target for SARS-CoV-</font>2<strike><font color=red>0 viral pneumonia outbreak that commenced in Wuhan1-4. Currently there is no targeted therapeutics and effective treatment options remain very limited. In order to rapidly discover lead compounds for clinical use, we initiated a program of combined structure-assisted drug design, virtual drug screening, and high-throughput screening to identify new drug leads that target the COVID-19 main protease (Mpro). Mpro is a key coronavirus enzyme, which plays a pivotal role in mediating viral replication and transcription, making it an attractive drug target for this virus</font></strike>5,6. <strike><font color=red>Here, w</font></strike> <font color=green>W</font>e identified a mechanism-based inhibitor<strike><font color=red>, </font></strike> <font color=green> (</font>N3<font color=green>) by computer-aided drug design</font>, <strike><font color=red>by computer</font></strike> <font color=green>and then determined the crystal structure of Mpro of SARS</font>-<strike><font color=red>aided drug design and subsequently determined the crystal structure of </font></strike>C<strike><font color=red>O</font></strike> <font color=green>o</font>V<strike><font color=red>ID</font></strike>-<strike><font color=red>19 Mpro</font></strike> <font color=green>2</font> in complex with this compound. <strike><font color=red>Next, t</font></strike> <font color=green>T</font>hrough a combination of structure-based virtual and high-throughput screening, we assayed <strike><font color=red>over</font></strike> <font color=green>more than</font> 10,000 compounds<strike><font color=red> </font></strike> <font color=green>—</font>including approved drugs, drug candidates in clinical trials<font color=green> and other pharmacologically active compounds—as inhibitors of Mpro. Six of these compounds inhibited Mpro</font>, <strike><font color=red>and other pharmacologically active compounds as</font></strike> <font color=green>showing half-maximal</font> inhibitor<strike><font color=red>s of Mpro. Seven of these inhibit Mpro with IC50 values ranging</font></strike> <font color=green>y concentration values that ranged</font> from 0.<font color=green>67 to 21.</font>4<strike><font color=red>8 to 16.62</font></strike> μM. <strike><font color=red>E</font></strike> <font color=green>One of these compounds (e</font>bselen<strike><font color=red>, thiadiazolidinone-8 (TDZD-8</font></strike>) a<strike><font color=red>nd N3 a</font></strike>lso exhibited <strike><font color=red>stro</font></strike> <font color=green>promisi</font>ng antiviral activity in cell-based assays. Our results demonstrate the efficacy of <strike><font color=red>this</font></strike> <font color=green>our</font> screening strategy, <strike><font color=red>and est</font></strike> <font color=green>which can lead to the rapid discovery of drug leads with clinical potential in response to new infectious diseases for which no specific drugs or vaccines are avail</font>abl<strike><font color=red>ishes a new paradigm for the rapid discovery of drug leads with clinical potential in response to new infectious diseases where no specific drugs or vaccines are availabl</font></strike>e."
      ],
      "text/plain": [
       "<IPython.core.display.HTML object>"
      ]
     },
     "metadata": {},
     "output_type": "display_data"
    },
    {
     "name": "stdout",
     "output_type": "stream",
     "text": [
      " \n",
      "Scored abstract change: Yes, significant: altered wording or numbers leading to a softening/strengthening of main conclusions(s)\n",
      "Computed change ratio: 0.2980524978831499\n",
      " \n"
     ]
    },
    {
     "data": {
      "text/html": [
       "<font color=green>Background\n",
       "</font>The coronavirus disease 2019 (COVID-19) is rapidly spreading <strike><font color=red>over</font></strike> <font color=green>in</font> China and more than 30 countries <strike><font color=red>in</font></strike> <font color=green>over</font> last two months. COVID-19 has multiple characteristics distinct from other infectious diseases, including <strike><font color=red>a </font></strike>high infectivity during incubation, time delay between real dynamics and daily observed <strike><font color=red>case numbers, and the effects from multi</font></strike> <font color=green>number of confirmed cases, and the intervention effects of im</font>ple<font color=green>mented</font> quarantine and control measures.<strike><font color=red> </font></strike> <font color=green>\n",
       "\n",
       "Methods\n",
       "</font>We develop a <strike><font color=red>model </font></strike> <font color=green>Susceptible, Un-quanrantined infected, Quarantined infected, Confirmed infected (</font>SUQC<strike><font color=red> to adequately</font></strike> <font color=green>) model to</font> characterize<strike><font color=red>s</font></strike> the dynamics of COVID-19 and explicitly <strike><font color=red>model the control b</font></strike> <font color=green>parameterize the intervention effects of control measures, which is more suitable for anal</font>y<strike><font color=red> artificial measures, which is more suitable for analy</font></strike>sis than other existing epidemic models.<strike><font color=red> </font></strike> <font color=green>\n",
       "\n",
       "Results\n",
       "</font>The SUQC model is applied to the daily released data of the confirmed infect<strike><font color=red>ed</font></strike> <font color=green>ions</font> to analyze the outbreak of COVID-19 in Wuhan, Hubei (excluding Wuhan), China (excluding Hubei) and four first-tier cities of China. We f<strike><font color=red>i</font></strike> <font color=green>ou</font>nd that, before January 30, 2020, all these regions except Beijing ha<font color=green>d a reproducti</font>ve <strike><font color=red>a reproductive </font></strike>number R<font color=green> </font>><font color=green> </font>1, and after January 30, all regions ha<font color=green>d a reproducti</font>ve <strike><font color=red>a re</font></strike> <font color=green>number R < 1, indicating that the quarantine and control measures are effective in </font>pr<strike><font color=red>oducti</font></strike> <font color=green>e</font>ve<strike><font color=red> number R<1, indicating the effectiveness of the quarantine and control measures in inhibiting</font></strike> <font color=green>nting the spread of</font> COVID-19. The confirmation rate of Wuhan <font color=green>estimated by our model </font>is 0.0643, s<strike><font color=red>ignificant</font></strike> <font color=green>ubstantial</font>ly lower than <font color=green>that of Hubei excluding Wuhan (</font>0.1914<strike><font color=red> of</font></strike> <font color=green>), and that of China excluding</font> Hubei (<strike><font color=red>excluding Wuhan) and </font></strike>0.2189<strike><font color=red> of China (excluding Hubei</font></strike>), but i<strike><font color=red>ncrease</font></strike> <font color=green>t jump</font>s to 0.3229 after Feb<font color=green>ruary</font> 12<strike><font color=red>th</font></strike> when clinical <strike><font color=red>diagnosis</font></strike> <font color=green>evidence</font> was adopted<font color=green> in new diagnosis guidelines</font>. The <strike><font color=red>un-</font></strike> <font color=green>number of un</font>quarantined infected <strike><font color=red>individual</font></strike> <font color=green>case</font>s in Wuhan on February 12, 2020 is <strike><font color=red>as high as</font></strike> <font color=green>estimated to be</font> 3,509 and dec<strike><font color=red>reas</font></strike> <font color=green>lin</font>es to 334 on February 21<strike><font color=red>th</font></strike>, 2020. After fitting the model with <strike><font color=red>recent data</font></strike> <font color=green>data as of February 21, 2020</font>, we predict that the end time<strike><font color=red>s</font></strike> of COVID-19 <strike><font color=red>of</font></strike> <font color=green>in</font> Wuhan and Hubei <strike><font color=red>are around late-</font></strike> <font color=green>is around late </font>March, <strike><font color=red>of</font></strike> <font color=green>around mid March for</font> China <strike><font color=red>(</font></strike>excluding Hubei<strike><font color=red>) around mid-March, and of the four tier-one cities before</font></strike> <font color=green>, and before early</font> March 2020<font color=green> for the four tier-one cities</font>. A total of 80,511 individuals <strike><font color=red>of the whole country are infected</font></strike> <font color=green>are estimated to be infected in China</font>, among which 49,510 are from Wuhan, 17,679 from Hubei<font color=green> </font>(excluding Wuhan), and the rest 13,322 from other regions of China (excluding Hubei). <font color=green>Note that the estimates are from a deterministic ODE model and should be interpreted with some uncertainty.\n",
       "\n",
       "Conclusions\n",
       "</font>We suggest th<strike><font color=red>e</font></strike> <font color=green>at</font> rigorous quarantine and control measures should be kept before <font color=green>early </font>March in Beijing, Shanghai, Guangzhou and Shenzhen, and before late<strike><font color=red>-</font></strike> <font color=green> </font>March in Hubei. The model can also be useful to predict the trend of epidemic and provide quantitative guide for other count<strike><font color=red>ies in a</font></strike> <font color=green>ries at</font> high risk of outbreak, such as South Korea, Japan<strike><font color=red> and</font></strike> <font color=green>,</font> I<font color=green>taly and I</font>ran."
      ],
      "text/plain": [
       "<IPython.core.display.HTML object>"
      ]
     },
     "metadata": {},
     "output_type": "display_data"
    },
    {
     "name": "stdout",
     "output_type": "stream",
     "text": [
      " \n",
      "Scored abstract change: Yes, significant: altered wording or numbers leading to a softening/strengthening of main conclusions(s)\n",
      "Computed change ratio: 0.7748049052396878\n",
      " \n"
     ]
    },
    {
     "data": {
      "text/html": [
       "<font color=green>Objectives\n",
       "</font>Since the first <strike><font color=red>identified individual</font></strike> <font color=green>case</font> of 2019 novel coronavirus (COVID-19) i<strike><font color=red>nfection</font></strike> <font color=green>dentified</font> on Jan 20<strike><font color=red>, 2020 in South Korea, the number of confirmed cases rapidly increased. As of Feb 26</font></strike>, 2020, <strike><font color=red>1</font></strike> <font color=green>in South Korea</font>,<font color=green> the number of cases rapidly increased, resulting in 6</font>2<font color=green>84 cases including 42 deaths as of Mar </font>6<strike><font color=red>1 cases</font></strike> <font color=green>, 2020. To examine the growth rate of the outbreak, we present the first study to report the reproduction number</font> of COVID-19 in<strike><font color=red>cluding 12 deaths were confirmed in</font></strike> South Korea.<strike><font color=red> Using the incidence data</font></strike> <font color=green>\n",
       "\n",
       "Methods\n",
       "The daily confirmed cases</font> of COVID-19<font color=green> in South Korea were extracted from publicly available sources. By using the empirical reporting delay distribution and simulating the generalized growth model</font>, we estimate<font color=green>d the effective reproduction number based on the discretized probability distribution of the generation interval.\n",
       "\n",
       "Results\n",
       "We identified four major clusters and estimated</font> the reproduction number at 1.5 (95% CI: 1.4<font color=green>–1.6). In addition, the intrinsic growth rate was estimated at 0.6 (95% CI: 0.6, 0.7), and the scaling of growth parameter was estimated at 0.8 (95% CI: 0.7, 0.8), indicating sub-exponential growth dynamics of COVID</font>-1<strike><font color=red>.6</font></strike> <font color=green>9. The crude case fatality rate is higher among males (1.1%</font>)<strike><font color=red>,</font></strike> <font color=green> compared to females (0.4%) and increases</font> w<strike><font color=red>hich indicates sustained transmission and support the implementation of social distancing measures to rapid</font></strike> <font color=green>ith older age.\n",
       "\n",
       "Conclusions\n",
       "Our results indicate an ear</font>ly <font color=green>sustained transmission of COVID-19 in South Korea and support the implementation of social distancing measures to rapidly </font>control the outbreak."
      ],
      "text/plain": [
       "<IPython.core.display.HTML object>"
      ]
     },
     "metadata": {},
     "output_type": "display_data"
    },
    {
     "name": "stdout",
     "output_type": "stream",
     "text": [
      " \n"
     ]
    }
   ],
   "source": [
    "from IPython.core.display import display, HTML\n",
    "\n",
    "for index, row in dataset.iterrows():\n",
    "    abs1 = row[\"v1 Preprint abstract\"]\n",
    "    abs2 = row[\"Paper abstract\"]\n",
    "    try:\n",
    "        change_ratio, out = show_diff(abs1,abs2)\n",
    "        if  change_ratio> 0.2:\n",
    "            print (\"Scored abstract change:\", row[\"Scored abstract change\"])\n",
    "            print (\"Computed change ratio:\", change_ratio)\n",
    "#            print (\" \")\n",
    "#            print (abs1)\n",
    "#            print (\" \")\n",
    "#            print (abs2)\n",
    "            print (\" \")\n",
    "            display(HTML(out))\n",
    "            print (\" \")\n",
    "            \n",
    "    except Exception as e:\n",
    "            continue"
   ]
  },
  {
   "cell_type": "code",
   "execution_count": null,
   "metadata": {},
   "outputs": [],
   "source": [
    "for index, row in dataset.iterrows():\n",
    "    abs1 = row[\"v1 Preprint abstract\"]\n",
    "    abs2 = row[\"Paper abstract\"]"
   ]
  },
  {
   "cell_type": "code",
   "execution_count": null,
   "metadata": {},
   "outputs": [],
   "source": []
  }
 ],
 "metadata": {
  "kernelspec": {
   "display_name": "Python 3",
   "language": "python",
   "name": "python3"
  },
  "language_info": {
   "codemirror_mode": {
    "name": "ipython",
    "version": 3
   },
   "file_extension": ".py",
   "mimetype": "text/x-python",
   "name": "python",
   "nbconvert_exporter": "python",
   "pygments_lexer": "ipython3",
   "version": "3.6.0"
  }
 },
 "nbformat": 4,
 "nbformat_minor": 2
}
