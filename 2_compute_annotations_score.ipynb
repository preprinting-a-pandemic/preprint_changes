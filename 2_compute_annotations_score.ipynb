{
 "cells": [
  {
   "cell_type": "code",
   "execution_count": 1,
   "metadata": {
    "tags": []
   },
   "outputs": [],
   "source": [
    "\n",
    "import pandas as pd\n",
    "original_dataset = pd.read_csv(\"../all_pairs - old.tsv\", sep='\\t') \n",
    "\n",
    "annotations_df = pd.read_csv(\"extracted_reconciled_annotations.tsv\", sep='\\t') \n",
    "\n",
    "original_dois = original_dataset['doi'].tolist()\n",
    "covid_preprint = original_dataset[\"covid_preprint\"].tolist()\n",
    "covid_preprint = {original_dois[x]:covid_preprint[x] for x in range(len(original_dois))}\n"
   ]
  },
  {
   "cell_type": "code",
   "execution_count": 2,
   "metadata": {},
   "outputs": [
    {
     "output_type": "stream",
     "name": "stdout",
     "text": [
      "185\n"
     ]
    }
   ],
   "source": [
    "max_id = max([int(x) for x in set(annotations_df[\"abstract_id\"])])\n",
    "print (max_id)"
   ]
  },
  {
   "cell_type": "code",
   "execution_count": 3,
   "metadata": {},
   "outputs": [
    {
     "output_type": "stream",
     "name": "stdout",
     "text": [
      "184\n"
     ]
    },
    {
     "output_type": "execute_result",
     "data": {
      "text/plain": [
       "'10.1101/869313'"
      ]
     },
     "metadata": {},
     "execution_count": 3
    }
   ],
   "source": [
    "annotations_df = annotations_df[annotations_df['score'].notna()]\n",
    "\n",
    "dois = open(\"dois.txt\",\"r\").read().strip().split(\"\\n\")\n",
    "dois = {x+1:dois[x] for x in range(len(dois))}\n",
    "\n",
    "print (len(dois))\n",
    "dois[184]"
   ]
  },
  {
   "cell_type": "code",
   "execution_count": 4,
   "metadata": {},
   "outputs": [],
   "source": [
    " normalise_sections = {'conclusion':\"conclusions\",\n",
    " 'conclusion':\"conclusions\",\n",
    " 'conclusion  ':\"conclusions\",\n",
    " 'conclusions':\"conclusions\",\n",
    " 'concusions':\"conclusions\",\n",
    " 'contex':\"context\",\n",
    " 'context':\"context\",\n",
    " 'context  ':\"context\",\n",
    " 'context  removed':\"context\",\n",
    " 'countext':\"context\",\n",
    " 'new':\"new\",\n",
    " 'reslts':'results',\n",
    " 'resuls':'results',\n",
    " 'result':'results',\n",
    " 'results':'results',\n",
    " 'results/context':'results/context',\n",
    " 'resutls':'results',\n",
    " 'resuts':'results'}\n",
    "\n",
    "normalise_labels = {'nounchange': 'nounchange', 'effect-': 'effect-', 'stat-': 'stat-', 'added': 'added', 'removed': 'removed', 'stat+': 'stat+', 'stat-1': 'stat-', 'effect+': 'effect+', 'statinfo': 'stat', 'effectreverse': 'effectreverse', 'aded': 'added', 'effectt+': 'effect+', 'nouchange': 'nounchange', 'effect': 'effect', 'results': 'results', 'nounchage': 'nounchange', 'stat': 'stat', 'ef': 'effect', 'added  ': 'added', 'emoved': 'removed', 'remove': 'removed'}"
   ]
  },
  {
   "cell_type": "code",
   "execution_count": 5,
   "metadata": {
    "tags": []
   },
   "outputs": [],
   "source": [
    "out_ann = open(\"final_reconciled_annotations.csv\",\"w\")\n",
    "out_ann.write(\"page_id,doi,covid_preprint,annotator,section,label,label+modifier,label_modifier,score,score+modifier,score_modifier\\n\")\n",
    "\n",
    "final_columns = {}\n",
    "for id in range(1,185):\n",
    "    overall_score = {x:{p:[] for z,p in normalise_labels.items()} for y,x in normalise_sections.items()}\n",
    "    scores = annotations_df.loc[annotations_df['abstract_id'] == id][\"score\"].tolist()\n",
    "    annotators = annotations_df.loc[annotations_df['abstract_id'] == id][\"annotator\"].tolist()\n",
    "    scores = [[annotators[x],scores[x]] for x in range(len(scores)) if \"_\" in scores[x]]\n",
    "    doi = dois[id]\n",
    "    preprint = covid_preprint[doi]\n",
    "    for el in scores:\n",
    "            ann = el[0].replace(\",\",\" \")\n",
    "            score = el[1]\n",
    "            score = score.replace(\" \",\"\")\n",
    "            score = score.strip()\n",
    "\n",
    "            if len(score.split(\"_\"))>2 and score.split(\"_\")[0] in normalise_sections:\n",
    "                section = normalise_sections[score.split(\"_\")[0]]\n",
    "                label = normalise_labels[score.split(\"_\")[1]]\n",
    "                \n",
    "                # check if there is a modifier in the label\n",
    "                last_char = label[-1]\n",
    "                if last_char==\"+\" or last_char==\"-\":\n",
    "                    label_modifier = last_char\n",
    "                    label_without_modifier = label.replace(\"+\",\"\").replace(\"-\",\"\")\n",
    "                else:\n",
    "                    label_modifier=\"\"\n",
    "                    label_without_modifier = label\n",
    "\n",
    "                sc = score.split(\"_\")[-1].strip()\n",
    "\n",
    "                score_modifier = [x for x in sc if x == \"+\" or x == \"-\"]\n",
    "                if len(score_modifier)>0:\n",
    "                    score_modifier = score_modifier[0]\n",
    "                    sc_without_modifier = sc.replace(score_modifier,\"\")\n",
    "                else:\n",
    "                    score_modifier = \"\"\n",
    "                    sc_without_modifier = sc\n",
    "\n",
    "                try:\n",
    "                    int_sc = int(''.join(c for c in sc if c.isdigit()))\n",
    "                # this happens if the annotator forgot to assign a value, we add 1 here\n",
    "                except ValueError:\n",
    "                    sc = \"\"\n",
    "            \n",
    "                \n",
    "                out_ann.write(str(id)+\",\"+doi+\",\"+str(preprint)+\",\"+ann+\",\"+section+\",\"+label_without_modifier+\",\"+label+\",\"+label_modifier+\",\"+sc_without_modifier+\",\"+sc+\",\"+score_modifier+\"\\n\")\n",
    "\n",
    "out_ann.close()"
   ]
  }
 ],
 "metadata": {
  "kernelspec": {
   "name": "python3",
   "display_name": "Python 3",
   "language": "python"
  },
  "language_info": {
   "codemirror_mode": {
    "name": "ipython",
    "version": 3
   },
   "file_extension": ".py",
   "mimetype": "text/x-python",
   "name": "python",
   "nbconvert_exporter": "python",
   "pygments_lexer": "ipython3",
   "version": "3.7.4-final"
  }
 },
 "nbformat": 4,
 "nbformat_minor": 4
}