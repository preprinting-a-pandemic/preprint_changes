{
 "cells": [
  {
   "cell_type": "code",
   "execution_count": null,
   "metadata": {},
   "outputs": [],
   "source": [
    "import pandas as pd\n",
    "import difflib,nltk\n",
    "from IPython.core.display import display, HTML\n",
    "\n",
    "dataset = pd.read_csv('data/preprints_full_20190901_20200430.csv')\n",
    "print (len(dataset))"
   ]
  },
  {
   "cell_type": "code",
   "execution_count": null,
   "metadata": {},
   "outputs": [],
   "source": [
    "dataset.head()"
   ]
  },
  {
   "cell_type": "code",
   "execution_count": null,
   "metadata": {},
   "outputs": [],
   "source": [
    "def show_diff(text, n_text):\n",
    "    \"\"\"\n",
    "    Based upon http://stackoverflow.com/a/788780\n",
    "    Unify operations between two compared strings seqm is a difflib.\n",
    "    SequenceMatcher instance whose a & b are strings\n",
    "    \"\"\"\n",
    "    \n",
    "    seqm = difflib.SequenceMatcher(None, text, n_text)\n",
    "    ratio = float(1.0 - seqm.ratio())\n",
    "    output= []\n",
    "    removals = get_all_removals(text,n_text)\n",
    "    for opcode, a0, a1, b0, b1 in seqm.get_opcodes():\n",
    "        if opcode == 'equal':\n",
    "            output.append(seqm.a[a0:a1])\n",
    "        elif opcode == 'insert':\n",
    "            check_rearr = find_rearrangements(removals,seqm.b[b0:b1],\"green\")\n",
    "            output.append(check_rearr )\n",
    "        elif opcode == 'delete':\n",
    "            output.append(\"<strike><font color=red>\" + seqm.a[a0:a1] + \"</font></strike>\")\n",
    "        elif opcode == 'replace':\n",
    "            # seqm.a[a0:a1] -> seqm.b[b0:b1]\n",
    "            check_rearr = find_rearrangements(removals,seqm.b[b0:b1],\"blue\")\n",
    "            output.append(\"<strike><font color=red>\"+ seqm.a[a0:a1] + \"</font></strike> \"+ check_rearr )\n",
    "        else:\n",
    "            raise (RuntimeError, \"unexpected opcode\")\n",
    "    return ratio, ''.join(output)"
   ]
  },
  {
   "cell_type": "code",
   "execution_count": null,
   "metadata": {},
   "outputs": [],
   "source": [
    "def get_all_removals(text, n_text):\n",
    "    seqm = difflib.SequenceMatcher(None, text, n_text)\n",
    "    output= []    \n",
    "    for opcode, a0, a1, b0, b1 in seqm.get_opcodes():\n",
    "        if opcode == 'delete':\n",
    "            output.append(seqm.a[a0:a1])\n",
    "        elif opcode == 'replace':\n",
    "            output.append(seqm.a[a0:a1])\n",
    "    return ''.join(output)  \n",
    "\n",
    "ngram_up_to = 2\n",
    "def get_all_ngrams(text,ngram_up_to):\n",
    "    \"\"\"Returns all ngrams from a text up to a certain number.\n",
    "    \n",
    "    Args:\n",
    "        text: a string.\n",
    "        ngram_up_to: a integer.\n",
    "    Returns:\n",
    "        A list of ngrams.\n",
    "    \"\"\"\n",
    "    \n",
    "    tokens = text.split(\" \")\n",
    "    ngrams = [\" \".join(x) for n in range(2,ngram_up_to+1) for x in nltk.ngrams(tokens,n)]  \n",
    "    match_ngrams_tokens = {}\n",
    "    for x in range(len(tokens)):\n",
    "        token = tokens[x]\n",
    "        match_ngrams_tokens[x] = [x-1,x]\n",
    "    return ngrams,match_ngrams_tokens,tokens\n",
    "\n",
    "def find_rearrangements(removals,snippet,colour):\n",
    "    \n",
    "    ngrams,match_ngrams_tokens,tokens = get_all_ngrams(snippet,ngram_up_to)\n",
    "\n",
    "    output= []    \n",
    "    \n",
    "    for t in range(len(tokens)):\n",
    "        token = tokens[t]\n",
    "        rel_ngrams = match_ngrams_tokens[t]\n",
    "        check = False\n",
    "        for ngram_id in rel_ngrams:\n",
    "            try:\n",
    "                rel_ngram = ngrams[ngram_id]\n",
    "                if rel_ngram in removals:\n",
    "                    check = True\n",
    "            except Exception as e:\n",
    "                continue\n",
    "        if check == True:\n",
    "            output.append(\"<font color=orange>\" + token+ \" </font>\")\n",
    "        else:    \n",
    "            output.append(\"<font color=\"+colour+\">\" + token+ \" </font>\")\n",
    "        \n",
    "    return ''.join(output)    "
   ]
  },
  {
   "cell_type": "code",
   "execution_count": null,
   "metadata": {},
   "outputs": [],
   "source": [
    "def display_changes(doi):\n",
    "    for index, row in dataset.iterrows():\n",
    "        if doi == row[\"doi\"]:\n",
    "            abs1 = row[\"abstract\"]\n",
    "            abs2 = row[\"published_abstract\"]\n",
    "            if type(abs2) is not str:\n",
    "                if type(row[\"published_pubmed_abstract\"]) is str:\n",
    "                    abs2 = row[\"published_pubmed_abstract\"]\n",
    "                else:\n",
    "                    return \"Missing Final Abstract\"\n",
    "        #        number = row[\"Number\"]\n",
    "\n",
    "            change_ratio, out = show_diff(abs1,abs2)\n",
    "            print (\"Computed change ratio:\", change_ratio)\n",
    "            print ()\n",
    "            display(HTML(out))\n",
    "                    \n"
   ]
  },
  {
   "cell_type": "code",
   "execution_count": null,
   "metadata": {},
   "outputs": [],
   "source": [
    "display_changes(\"10.1101/19000828\")"
   ]
  },
  {
   "cell_type": "code",
   "execution_count": null,
   "metadata": {},
   "outputs": [],
   "source": []
  },
  {
   "cell_type": "code",
   "execution_count": null,
   "metadata": {},
   "outputs": [],
   "source": []
  }
 ],
 "metadata": {
  "kernelspec": {
   "display_name": "Python 3",
   "language": "python",
   "name": "python3"
  },
  "language_info": {
   "codemirror_mode": {
    "name": "ipython",
    "version": 3
   },
   "file_extension": ".py",
   "mimetype": "text/x-python",
   "name": "python",
   "nbconvert_exporter": "python",
   "pygments_lexer": "ipython3",
   "version": "3.6.0"
  }
 },
 "nbformat": 4,
 "nbformat_minor": 2
}
