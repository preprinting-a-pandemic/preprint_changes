{
 "metadata": {
  "language_info": {
   "codemirror_mode": {
    "name": "ipython",
    "version": 3
   },
   "file_extension": ".py",
   "mimetype": "text/x-python",
   "name": "python",
   "nbconvert_exporter": "python",
   "pygments_lexer": "ipython3",
   "version": "3.7.4-final"
  },
  "orig_nbformat": 2,
  "kernelspec": {
   "name": "python37464bitbasecondabcc87949bb3d4822a09d2df6f4191c19",
   "display_name": "Python 3.7.4 64-bit ('base': conda)",
   "language": "python"
  }
 },
 "nbformat": 4,
 "nbformat_minor": 2,
 "cells": [
  {
   "cell_type": "code",
   "execution_count": 51,
   "metadata": {
    "tags": []
   },
   "outputs": [
    {
     "output_type": "stream",
     "name": "stdout",
     "text": [
      "606\n1366\n"
     ]
    }
   ],
   "source": [
    "import pandas as pd\n",
    "from collections import Counter\n",
    "annotations = pd.read_csv(\"raw_annotations.csv\", sep=',')\n",
    "\n",
    "final_annotations = []\n",
    "ct = 0\n",
    "pages = set(annotations[\"page_id\"])\n",
    "\n",
    "for page in pages:\n",
    "    scores = annotations.loc[annotations['page_id'] == page]\n",
    "    combos = []\n",
    "    doi = scores[\"doi\"].tolist()[0]\n",
    "    preprint = scores[\"covid_preprint\"].tolist()[0]\n",
    "    ct+=len(scores)\n",
    "    for x in range(len(scores)):\n",
    "#        combos.append(scores[\"section\"].tolist()[x]+\"_\"+scores[\"label\"].tolist()[x])\n",
    "        combos.append(scores[\"section\"].tolist()[x]+\"_\"+scores[\"label\"].tolist()[x]+\"_\"+str(scores[\"score\"].tolist()[x]))\n",
    "    for combo,freq in Counter(combos).most_common():\n",
    "        # this is the filter!\n",
    "            section = combo.split(\"_\")[0]\n",
    "            label = combo.split(\"_\")[1]\n",
    "            sc = combo.split(\"_\")[2]\n",
    "            final_annotations.append([str(page),doi,str(preprint),section,label,sc])\n",
    "\n",
    "print (len(final_annotations))\n",
    "print (ct)"
   ]
  },
  {
   "cell_type": "code",
   "execution_count": 52,
   "metadata": {},
   "outputs": [],
   "source": [
    "out_ann = open(\"aggregate_annotations.csv\",\"w\")\n",
    "out_ann.write(\"page_id,doi,covid_preprint,section,label,score\\n\")\n",
    "for line in final_annotations:\n",
    "    out_ann.write(\",\".join(line))\n",
    "    out_ann.write(\"\\n\")\n",
    "out_ann.close()"
   ]
  }
 ]
}