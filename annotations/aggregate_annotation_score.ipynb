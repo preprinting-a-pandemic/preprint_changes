{
 "metadata": {
  "language_info": {
   "codemirror_mode": {
    "name": "ipython",
    "version": 3
   },
   "file_extension": ".py",
   "mimetype": "text/x-python",
   "name": "python",
   "nbconvert_exporter": "python",
   "pygments_lexer": "ipython3",
   "version": "3.7.4-final"
  },
  "orig_nbformat": 2,
  "kernelspec": {
   "name": "python37464bitbasecondabcc87949bb3d4822a09d2df6f4191c19",
   "display_name": "Python 3.7.4 64-bit ('base': conda)",
   "language": "python"
  }
 },
 "nbformat": 4,
 "nbformat_minor": 2,
 "cells": [
  {
   "cell_type": "code",
   "execution_count": 79,
   "metadata": {
    "tags": []
   },
   "outputs": [
    {
     "output_type": "stream",
     "name": "stdout",
     "text": [
      "606\n"
     ]
    }
   ],
   "source": [
    "import pandas as pd\n",
    "from collections import Counter\n",
    "annotations = pd.read_csv(\"raw_annotations.csv\", sep=',')\n",
    "\n",
    "final_annotations = []\n",
    "ct = 0\n",
    "pages = set(annotations[\"page_id\"])\n",
    "\n",
    "mul = 0\n",
    "\n",
    "f = {}\n",
    "\n",
    "for page in pages:\n",
    "    scores = annotations.loc[annotations['page_id'] == page]\n",
    "    combos = []\n",
    "    doi = scores[\"doi\"].tolist()[0]\n",
    "    preprint = scores[\"covid_preprint\"].tolist()[0]\n",
    "    ct+=len(scores)\n",
    "    check_people = {x:[] for x in set(scores[\"annotator\"].tolist())}\n",
    "    for x in range(len(scores)):\n",
    "        ann = scores[\"annotator\"].tolist()[x]\n",
    "        if scores[\"section\"].tolist()[x]+\"_\"+scores[\"label\"].tolist()[x]+\"_\"+str(scores[\"score\"].tolist()[x]) not in check_people[ann]:\n",
    "        #combos.append(scores[\"section\"].tolist()[x]+\"_\"+scores[\"label\"].tolist()[x])\n",
    "            combos.append(scores[\"section\"].tolist()[x]+\"_\"+scores[\"label\"].tolist()[x]+\"_\"+str(scores[\"score\"].tolist()[x]))\n",
    "            check_people[ann].append(scores[\"section\"].tolist()[x]+\"_\"+scores[\"label\"].tolist()[x]+\"_\"+str(scores[\"score\"].tolist()[x]))\n",
    "\n",
    "    for combo,freq in Counter(combos).most_common():\n",
    "        # this is the filter!\n",
    "            section = combo.split(\"_\")[0]\n",
    "            label = combo.split(\"_\")[1]\n",
    "            #sc = combo.split(\"_\")[2]\n",
    "            final_annotations.append([str(page),doi,str(preprint),section,label])\n",
    "            if freq >1:\n",
    "                p = []\n",
    "                for a,l in check_people.items():\n",
    "                    if combo in l:\n",
    "                        p.append(a)\n",
    "                if page in f:\n",
    "                    f[page].append([combo,p])\n",
    "                else:\n",
    "                    f[page] = [[combo,p]]\n",
    "                #mul+=1\n",
    "\n",
    "print (len(final_annotations))\n"
   ]
  },
  {
   "cell_type": "code",
   "execution_count": 81,
   "metadata": {},
   "outputs": [
    {
     "output_type": "stream",
     "name": "stdout",
     "text": [
      "Page: 1\n['context_nounchange_1', ['Jessica  Polka', 'Mate  Palfy']]\n['conclusions_stat_-1', ['Jessica  Polka', 'Mate  Palfy']]\n \nPage: 2\n['results_stat_-1', ['Jessica  Polka', 'Mate  Palfy', 'jonathon coates']]\n['context_added_1', ['Jessica  Polka', 'jonathon coates']]\n['results_removed_1', ['Mate  Palfy', 'jonathon coates']]\n['results_stat_1', ['Jessica  Polka', 'jonathon coates']]\n['conclusions_stat_1', ['Jessica  Polka', 'Mate  Palfy']]\n['conclusions_effect_-1', ['Jessica  Polka', 'Mate  Palfy']]\n['conclusions_effect_1', ['Jessica  Polka', 'Mate  Palfy']]\n \nPage: 3\n['results_removed_1', ['Mate  Palfy', 'Jessica  Polka', 'jonathon coates']]\n['context_added_1', ['Jessica  Polka', 'jonathon coates']]\n['context_removed_1', ['Jessica  Polka', 'jonathon coates']]\n \nPage: 4\n['conclusions_added_1', ['Mate  Palfy', 'Dey   Gautam', 'Jessica  Polka', 'jonathon coates']]\n['results_removed_1', ['Mate  Palfy', 'Jessica  Polka', 'jonathon coates']]\n['results_added_1', ['Mate  Palfy', 'Dey   Gautam', 'jonathon coates']]\n['results_stat_1', ['Jessica  Polka', 'jonathon coates']]\n \nPage: 7\n['results_stat_1', ['Mate  Palfy', 'Jessica  Polka', 'Dey   Gautam', 'jonathon coates']]\n['results_effect_1', ['Mate  Palfy', 'Jessica  Polka']]\n \nPage: 8\n['conclusions_effect_-1', ['Dey   Gautam', 'Mate  Palfy', 'jonathon coates']]\n['results_effect_-1', ['Dey   Gautam', 'jonathon coates']]\n \nPage: 9\n['conclusions_added_2', ['Dey   Gautam', 'jonathon coates']]\n \nPage: 10\n['results_added_1', ['Jessica  Polka', 'Mate  Palfy', 'jonathon coates']]\n['results_removed_1', ['Jessica  Polka', 'Mate  Palfy']]\n \nPage: 11\n['context_removed_1', ['Jessica  Polka', 'Dey   Gautam', 'Mate  Palfy', 'jonathon coates']]\n['conclusions_removed_1', ['Jessica  Polka', 'Mate  Palfy', 'jonathon coates']]\n['context_stat_-1', ['Jessica  Polka', 'Mate  Palfy']]\n['results_added_1', ['Jessica  Polka', 'Dey   Gautam']]\n['results_stat_1', ['Mate  Palfy', 'jonathon coates']]\n['conclusions_added_1', ['Mate  Palfy', 'jonathon coates']]\n \nPage: 12\n['conclusions_added_1', ['Jessica  Polka', 'Dey   Gautam', 'Mate  Palfy', 'jonathon coates']]\n \nPage: 13\n['results_added_1', ['Jessica  Polka', 'Dey   Gautam', 'Mate  Palfy', 'jonathon coates']]\n['context_removed_1', ['Jessica  Polka', 'Mate  Palfy']]\n \nPage: 14\n['context_stat_-1', ['Jessica  Polka', 'Mate  Palfy']]\n \nPage: 16\n['results_added_1', ['Jessica  Polka', 'Mate  Palfy', 'jonathon coates']]\n \nPage: 17\n['context_added_1', ['Mate  Palfy', 'Dey   Gautam']]\n \nPage: 19\n['context_removed_1', ['Dey   Gautam', 'Jessica  Polka']]\n['context_added_1', ['Dey   Gautam', 'Jessica  Polka']]\n \nPage: 20\n['conclusions_added_1', ['Jessica  Polka', 'Dey   Gautam', 'Mate  Palfy', 'jonathon coates']]\n \nPage: 24\n['conclusions_added_1', ['Dey   Gautam', 'Mate  Palfy', 'jonathon coates']]\n['conclusions_removed_1', ['Jessica  Polka', 'Mate  Palfy']]\n['conclusions_effect_1', ['Jessica  Polka', 'jonathon coates']]\n['context_added_1', ['Dey   Gautam', 'Jessica  Polka']]\n['results_removed_1', ['Dey   Gautam', 'Mate  Palfy']]\n \nPage: 26\n['results_stat_1', ['Dey   Gautam', 'Jessica  Polka', 'jonathon coates']]\n['results_stat_-1', ['Jessica  Polka', 'Mate  Palfy', 'jonathon coates']]\n['results_effect_1', ['Jessica  Polka', 'Mate  Palfy']]\n['results_effect_-1', ['Jessica  Polka', 'Mate  Palfy']]\n['conclusions_added_2', ['Jessica  Polka', 'jonathon coates']]\n['conclusions_added_1', ['Mate  Palfy', 'jonathon coates']]\n \nPage: 29\n['results_stat_1', ['Mate  Palfy', 'Jessica  Polka', 'Dey   Gautam', 'jonathon coates']]\n \nPage: 31\n['results_nounchange_1', ['Jessica  Polka', 'Dey   Gautam', 'Mate  Palfy']]\n \nPage: 34\n['results_stat_1', ['Dey   Gautam', 'jonathon coates']]\n['results_stat_-1', ['Mate  Palfy', 'jonathon coates']]\n \nPage: 36\n['context_added_1', ['Jessica  Polka', 'Dey   Gautam']]\n \nPage: 37\n['results_stat_1', ['Dey   Gautam', 'Mate  Palfy', 'jonathon coates']]\n \nPage: 38\n['results_stat_-1', ['Jessica  Polka', 'Mate  Palfy']]\n['results_added_1', ['Jessica  Polka', 'Mate  Palfy']]\n \nPage: 39\n['results_stat_1', ['Mate  Palfy', 'Jessica  Polka', 'Dey   Gautam', 'jonathon coates']]\n['results_added_1', ['Mate  Palfy', 'Jessica  Polka', 'Dey   Gautam']]\n['conclusions_added_1', ['Mate  Palfy', 'Dey   Gautam', 'jonathon coates']]\n['context_removed_1', ['Jessica  Polka', 'Dey   Gautam']]\n['results_stat_-1', ['Mate  Palfy', 'jonathon coates']]\n['results_removed_1', ['Jessica  Polka', 'Dey   Gautam']]\n \nPage: 40\n['results_stat_1', ['Dey   Gautam', 'Mate  Palfy', 'Jessica  Polka', 'jonathon coates']]\n['results_added_1', ['Mate  Palfy', 'Jessica  Polka']]\n['results_effect_-1', ['Mate  Palfy', 'Jessica  Polka']]\n \nPage: 41\n['results_stat_1', ['Dey   Gautam', 'Mate  Palfy', 'Jessica  Polka']]\n \nPage: 48\n['results_stat_1', ['Dey   Gautam', 'Jessica  Polka', 'Mate  Palfy', 'jonathon coates']]\n['conclusions_added_2', ['Dey   Gautam', 'Jessica  Polka', 'Mate  Palfy', 'jonathon coates']]\n['context_nounchange_1', ['Dey   Gautam', 'Jessica  Polka']]\n['conclusions_nounchange_1', ['Jessica  Polka', 'Mate  Palfy']]\n \nPage: 49\n['context_removed_1', ['Jessica  Polka', 'Dey   Gautam', 'jonathon coates']]\n['conclusions_nounchange_1', ['Mate  Palfy', 'Jessica  Polka']]\n \nPage: 56\n['context_added_1', ['Jessica  Polka', 'Dey   Gautam', 'jonathon coates']]\n['results_stat_1', ['Jessica  Polka', 'Dey   Gautam']]\n['results_added_1', ['Mate  Palfy', 'Jessica  Polka']]\n['conclusions_nounchange_1', ['Mate  Palfy', 'Jessica  Polka']]\n \nPage: 59\n['context_added_1', ['Dey   Gautam', 'Jessica  Polka']]\n['context_removed_1', ['Jessica  Polka', 'jonathon coates']]\n['results_nounchange_1', ['Mate  Palfy', 'Dey   Gautam']]\n['conclusions_removed_1', ['Mate  Palfy', 'Jessica  Polka']]\n \nPage: 62\n['results_added_1', ['Jessica  Polka', 'Dey   Gautam', 'Mate  Palfy', 'jonathon coates']]\n['results_stat_-1', ['Jessica  Polka', 'jonathon coates']]\n['results_nounchange_1', ['Jessica  Polka', 'Dey   Gautam']]\n['results_stat_1', ['Jessica  Polka', 'Mate  Palfy']]\n['results_effect_-1', ['Jessica  Polka', 'Mate  Palfy']]\n \nPage: 65\n['context_removed_1', ['Jessica  Polka', 'Dey   Gautam']]\n \nPage: 66\n['results_effectreverse_2', ['Dey   Gautam', 'Jessica  Polka']]\n \nPage: 67\n['conclusions_removed_1', ['Jessica  Polka', 'Dey   Gautam']]\n \nPage: 70\n['results_effect_1', ['Mate  Palfy', 'Jessica  Polka', 'Dey   Gautam', 'jonathon coates']]\n['context_effect_1', ['Jessica  Polka', 'Dey   Gautam', 'jonathon coates']]\n \nPage: 72\n['context_removed_1', ['Jessica  Polka', 'Dey   Gautam', 'jonathon coates']]\n['results_added_1', ['Dey   Gautam', 'Mate  Palfy', 'jonathon coates']]\n['results_stat_1', ['Mate  Palfy', 'jonathon coates']]\n['conclusions_added_1', ['Jessica  Polka', 'Dey   Gautam']]\n \nPage: 73\n['results_stat_1', ['Jessica  Polka', 'Dey   Gautam', 'Mate  Palfy']]\n['results_effect_-1', ['Dey   Gautam', 'Mate  Palfy']]\n \nPage: 75\n['context_effect_1', ['Dey   Gautam', 'Mate  Palfy', 'Jessica  Polka', 'jonathon coates']]\n['results_stat_1', ['Dey   Gautam', 'Mate  Palfy', 'Jessica  Polka', 'jonathon coates']]\n['results_effect_1', ['Dey   Gautam', 'Mate  Palfy', 'Jessica  Polka']]\n['context_nounchange_1', ['Mate  Palfy', 'Jessica  Polka']]\n['context_added_1', ['Mate  Palfy', 'Jessica  Polka']]\n \nPage: 76\n['results_added_1', ['Dey   Gautam', 'Mate  Palfy', 'jonathon coates']]\n['results_effect_1', ['Jessica  Polka', 'jonathon coates']]\n['results_stat_1', ['Dey   Gautam', 'Jessica  Polka']]\n['conclusions_effect_2', ['Dey   Gautam', 'Jessica  Polka']]\n['results_effect_-1', ['Mate  Palfy', 'Jessica  Polka']]\n \nPage: 79\n['results_effect_1', ['Jessica  Polka', 'Dey   Gautam', 'Mate  Palfy']]\n['results_stat_1', ['Jessica  Polka', 'Dey   Gautam', 'Mate  Palfy']]\n['context_removed_1', ['Jessica  Polka', 'Mate  Palfy']]\n \nPage: 80\n['context_effect_1', ['Jessica  Polka', 'Dey   Gautam']]\n['conclusions_stat_-1', ['Jessica  Polka', 'Mate  Palfy']]\n \nPage: 81\n['context_added_1', ['Mate  Palfy', 'Jessica  Polka', 'Dey   Gautam', 'jonathon coates']]\n['context_effect_1', ['Jessica  Polka', 'Dey   Gautam', 'jonathon coates']]\n['results_nounchange_1', ['Jessica  Polka', 'jonathon coates']]\n['results_nounchange_2', ['Mate  Palfy', 'Jessica  Polka']]\n['results_removed_1', ['Jessica  Polka', 'jonathon coates']]\n['results_added_1', ['Jessica  Polka', 'jonathon coates']]\n['results_effect_-1', ['Mate  Palfy', 'Dey   Gautam']]\n['conclusions_added_1', ['Mate  Palfy', 'Jessica  Polka']]\n['conclusions_nounchange_1', ['Mate  Palfy', 'Jessica  Polka']]\n \nPage: 83\n['results_added_1', ['Jessica  Polka', 'Dey   Gautam', 'Mate  Palfy', 'jonathon coates']]\n['results_effect_1', ['Jessica  Polka', 'Dey   Gautam', 'Mate  Palfy']]\n \nPage: 86\n['results_added_1', ['Dey   Gautam', 'Jessica  Polka', 'Mate  Palfy', 'jonathon coates']]\n['context_added_1', ['Dey   Gautam', 'Jessica  Polka', 'jonathon coates']]\n['results_effect_-1', ['Jessica  Polka', 'Mate  Palfy', 'jonathon coates']]\n['results_effect_1', ['Jessica  Polka', 'Mate  Palfy', 'jonathon coates']]\n['results_stat_1', ['Dey   Gautam', 'Jessica  Polka', 'Mate  Palfy']]\n['conclusions_removed_2', ['Jessica  Polka', 'Mate  Palfy', 'jonathon coates']]\n['context_effect_-1', ['Mate  Palfy', 'jonathon coates']]\n['conclusions_added_1', ['Jessica  Polka', 'Mate  Palfy']]\n['conclusions_added_2', ['Jessica  Polka', 'jonathon coates']]\n \nPage: 88\n['conclusions_added_2', ['Jessica  Polka', 'Dey   Gautam', 'Mate  Palfy', 'jonathon coates']]\n['context_added_1', ['Jessica  Polka', 'Dey   Gautam']]\n['results_removed_1', ['Jessica  Polka', 'jonathon coates']]\n['results_added_2', ['Dey   Gautam', 'Mate  Palfy']]\n \nPage: 89\n['context_nounchange_1', ['Jessica  Polka', 'Mate  Palfy', 'jonathon coates']]\n['results_effect_1', ['Jessica  Polka', 'Dey   Gautam', 'Mate  Palfy']]\n['results_effect_-1', ['Jessica  Polka', 'Mate  Palfy', 'jonathon coates']]\n['conclusions_added_2', ['Jessica  Polka', 'Mate  Palfy', 'jonathon coates']]\n['context_added_1', ['Jessica  Polka', 'Dey   Gautam']]\n['conclusions_added_1', ['Dey   Gautam', 'Mate  Palfy']]\n \nPage: 90\n['results_stat_-1', ['Jessica  Polka', 'Mate  Palfy']]\n \nPage: 91\n['context_effect_1', ['Jessica  Polka', 'Dey   Gautam', 'jonathon coates']]\n['results_removed_1', ['Dey   Gautam', 'jonathon coates']]\n['results_effect_-1', ['Dey   Gautam', 'jonathon coates']]\n['results_effect_1', ['Jessica  Polka', 'jonathon coates']]\n \nPage: 92\n['context_stat_-1', ['Jessica  Polka', 'Mate  Palfy']]\n \nPage: 94\n['results_removed_1', ['Dey   Gautam', 'Jessica  Polka', 'Mate  Palfy']]\n['context_removed_1', ['Dey   Gautam', 'Jessica  Polka']]\n \nPage: 95\n['results_added_1', ['Dey   Gautam', 'Jessica  Polka', 'Mate  Palfy', 'jonathon coates']]\n['results_stat_1', ['Dey   Gautam', 'Jessica  Polka', 'jonathon coates']]\n['conclusions_added_2', ['Jessica  Polka', 'Mate  Palfy']]\n \nPage: 97\n['results_stat_1', ['Jessica  Polka', 'Mate  Palfy']]\n['results_nounchange_1', ['Mate  Palfy', 'jonathon coates']]\n['conclusions_effect_-1', ['Dey   Gautam', 'Mate  Palfy']]\n['results_effect_-1', ['Jessica  Polka', 'Mate  Palfy']]\n['results_removed_1', ['Jessica  Polka', 'Mate  Palfy']]\n \nPage: 98\n['results_removed_1', ['Jessica  Polka', 'Mate  Palfy', 'jonathon coates']]\n \nPage: 99\n['context_effect_1', ['Jessica  Polka', 'Dey   Gautam', 'jonathon coates']]\n['results_removed_2', ['Mate  Palfy', 'Jessica  Polka']]\n \nPage: 101\n['results_effect_-1', ['Mate  Palfy', 'Dey   Gautam', 'jonathon coates']]\n \nPage: 102\n['context_added_1', ['Jessica  Polka', 'Dey   Gautam']]\n['context_removed_1', ['Jessica  Polka', 'jonathon coates']]\n \nPage: 105\n['results_added_1', ['Jessica  Polka', 'Dey   Gautam', 'Mate  Palfy', 'jonathon coates']]\n['results_removed_1', ['Jessica  Polka', 'Mate  Palfy']]\n \nPage: 106\n['results_removed_1', ['Mate  Palfy', 'Jessica  Polka', 'jonathon coates']]\n['results_effect_-1', ['Mate  Palfy', 'Jessica  Polka', 'jonathon coates']]\n['results_stat_1', ['Mate  Palfy', 'Jessica  Polka', 'jonathon coates']]\n['results_added_1', ['Mate  Palfy', 'Jessica  Polka', 'jonathon coates']]\n['conclusions_added_1', ['Dey   Gautam', 'Mate  Palfy', 'Jessica  Polka']]\n \nPage: 107\n['context_added_1', ['Jessica  Polka', 'jonathon coates']]\n \nPage: 108\n['results_effect_-1', ['Dey   Gautam', 'Mate  Palfy', 'Jessica  Polka', 'jonathon coates']]\n['results_stat_-1', ['Dey   Gautam', 'Mate  Palfy', 'Jessica  Polka']]\n['results_removed_1', ['Mate  Palfy', 'Jessica  Polka']]\n \nPage: 109\n['context_added_1', ['Dey   Gautam', 'Jessica  Polka']]\n \nPage: 110\n['results_added_1', ['Mate  Palfy', 'Dey   Gautam', 'Jessica  Polka', 'jonathon coates']]\n['results_added_2', ['Mate  Palfy', 'Dey   Gautam', 'Jessica  Polka']]\n['context_effect_1', ['Dey   Gautam', 'jonathon coates']]\n \nPage: 111\n['conclusions_added_2', ['Jessica  Polka', 'Mate  Palfy']]\n \nPage: 112\n['results_removed_1', ['Jessica  Polka', 'Mate  Palfy', 'jonathon coates']]\n['results_removed_2', ['Jessica  Polka', 'Mate  Palfy']]\n \nPage: 113\n['conclusions_added_1', ['Dey   Gautam', 'Jessica  Polka']]\n \nPage: 114\n['results_added_1', ['Mate  Palfy', 'Dey   Gautam', 'jonathon coates']]\n \nPage: 119\n['results_effect_1', ['Jessica  Polka', 'Dey   Gautam', 'Mate  Palfy']]\n \nPage: 120\n['conclusions_added_1', ['Jessica  Polka', 'jonathon coates']]\n \nPage: 122\n['context_added_1', ['Jessica  Polka', 'Dey   Gautam', 'Mate  Palfy']]\n['results_stat_1', ['Jessica  Polka', 'Mate  Palfy', 'jonathon coates']]\n['results_added_1', ['Dey   Gautam', 'Mate  Palfy', 'jonathon coates']]\n['conclusions_effect_-1', ['Dey   Gautam', 'jonathon coates']]\n \nPage: 123\n['conclusions_added_2', ['Dey   Gautam', 'Jessica  Polka', 'Mate  Palfy', 'jonathon coates']]\n['results_added_1', ['Jessica  Polka', 'Mate  Palfy', 'jonathon coates']]\n \nPage: 124\n['context_effect_1', ['Dey   Gautam', 'jonathon coates']]\n \nPage: 126\n['results_removed_2', ['Mate  Palfy', 'Dey   Gautam']]\n \nPage: 129\n['context_removed_1', ['Jessica  Polka', 'jonathon coates']]\n \nPage: 131\n['results_stat_1', ['Jessica  Polka', 'Mate  Palfy', 'jonathon coates']]\n \nPage: 133\n['results_removed_1', ['Jessica  Polka', 'Dey   Gautam', 'jonathon coates']]\n['results_stat_-1', ['Jessica  Polka', 'jonathon coates']]\n['results_added_1', ['Jessica  Polka', 'jonathon coates']]\n \nPage: 134\n['results_added_1', ['Jessica  Polka', 'Mate  Palfy', 'jonathon coates']]\n['results_stat_1', ['Jessica  Polka', 'Mate  Palfy']]\n \nPage: 137\n['conclusions_added_1', ['Jessica  Polka', 'jonathon coates']]\n \nPage: 144\n['conclusions_stat_-1', ['Mate  Palfy', 'Jessica  Polka']]\n \nPage: 148\n['results_effect_1', ['Jessica  Polka', 'Mate  Palfy', 'jonathon coates']]\n \nPage: 151\n['results_effect_1', ['Jessica  Polka', 'Dey   Gautam', 'jonathon coates']]\n['results_added_1', ['Mate  Palfy', 'Jessica  Polka', 'jonathon coates']]\n['conclusions_added_1', ['Mate  Palfy', 'Jessica  Polka', 'Dey   Gautam']]\n['context_effect_1', ['Jessica  Polka', 'Dey   Gautam']]\n['results_stat_1', ['Mate  Palfy', 'Jessica  Polka']]\n['results_removed_1', ['Mate  Palfy', 'Jessica  Polka']]\n['results_stat_-1', ['Mate  Palfy', 'Jessica  Polka']]\n \nPage: 155\n['context_added_1', ['Dey   Gautam', 'jonathon coates']]\n['results_stat_1', ['Dey   Gautam', 'jonathon coates']]\n['conclusions_added_1', ['Jessica  Polka', 'jonathon coates']]\n \nPage: 160\n['context_added_1', ['Dey   Gautam', 'Jessica  Polka']]\n['context_removed_1', ['Jessica  Polka', 'Mate  Palfy']]\n['results_effect_1', ['Dey   Gautam', 'jonathon coates']]\n['conclusions_stat_1', ['Jessica  Polka', 'Mate  Palfy']]\n \nPage: 163\n['context_added_1', ['Dey   Gautam', 'jonathon coates']]\n['conclusions_removed_1', ['Mate  Palfy', 'Jessica  Polka']]\n \nPage: 164\n['results_added_1', ['Jessica  Polka', 'Dey   Gautam', 'Mate  Palfy']]\n['conclusions_removed_1', ['Jessica  Polka', 'Mate  Palfy', 'jonathon coates']]\n['context_added_1', ['Jessica  Polka', 'Mate  Palfy']]\n['results_removed_1', ['Jessica  Polka', 'jonathon coates']]\n \nPage: 167\n['context_added_1', ['Dey   Gautam', 'Jessica  Polka', 'Mate  Palfy']]\n \nPage: 168\n['results_removed_1', ['Jessica  Polka', 'Mate  Palfy']]\n['results_added_1', ['Jessica  Polka', 'Mate  Palfy']]\n \nPage: 171\n['conclusions_removed_1', ['Mate  Palfy', 'Jessica  Polka']]\n \nPage: 173\n['results_nounchange_1', ['Jessica  Polka', 'Dey   Gautam', 'Mate  Palfy']]\n['context_added_1', ['Jessica  Polka', 'Mate  Palfy']]\n['results_removed_1', ['Jessica  Polka', 'Mate  Palfy']]\n['conclusions_added_1', ['Jessica  Polka', 'Dey   Gautam']]\n \nPage: 174\n['context_added_1', ['Jessica  Polka', 'Mate  Palfy']]\n \nPage: 180\n['context_added_1', ['Dey   Gautam', 'Jessica  Polka', 'Mate  Palfy']]\n['results_added_1', ['Dey   Gautam', 'Mate  Palfy']]\n \nPage: 184\n['results_added_1', ['Jessica  Polka', 'Mate  Palfy']]\n \n"
     ]
    }
   ],
   "source": [
    "for p,c in f.items():\n",
    "    print (\"Page:\",p)\n",
    "    for cs in c:\n",
    "        print (cs)\n",
    "    print (\" \")"
   ]
  },
  {
   "cell_type": "code",
   "execution_count": 54,
   "metadata": {},
   "outputs": [],
   "source": [
    "out_ann = open(\"aggregate_annotations.csv\",\"w\")\n",
    "out_ann.write(\"page_id,doi,covid_preprint,section,label\\n\")\n",
    "for line in final_annotations:\n",
    "    out_ann.write(\",\".join(line))\n",
    "    out_ann.write(\"\\n\")\n",
    "out_ann.close()"
   ]
  },
  {
   "cell_type": "code",
   "execution_count": 89,
   "metadata": {
    "tags": []
   },
   "outputs": [
    {
     "output_type": "stream",
     "name": "stdout",
     "text": [
      "{'jonathoncoates_conclusions_effect_-1', 'DeyGautam_conclusions_nounchange_1', 'MatePalfy_context_nounchange_1', 'JessicaPolka_conclusions_stat_-1', 'JessicaPolka_context_nounchange_1', 'MatePalfy_conclusions_stat_-1', 'jonathoncoates_context_effect_-1'}\n"
     ]
    }
   ],
   "source": [
    "import pandas as pd\n",
    "from collections import Counter\n",
    "annotations = pd.read_csv(\"raw_annotations.csv\", sep=',')\n",
    "\n",
    "final_annotations = []\n",
    "ct = 0\n",
    "pages = set(annotations[\"page_id\"])\n",
    "\n",
    "mul = 0\n",
    "\n",
    "f = {}\n",
    "\n",
    "for page in pages:\n",
    "    scores = annotations.loc[annotations['page_id'] == page]\n",
    "    lines = []\n",
    "    for x in range(len(scores)):\n",
    "        line = scores[\"annotator\"].tolist()[x].replace(\" \",\"\")+\"_\"+scores[\"section\"].tolist()[x]+\"_\"+scores[\"label\"].tolist()[x]+\"_\"+str(scores[\"score\"].tolist()[x])\n",
    "        lines.append(line)\n",
    "    # removing multiple identical annotations by the same user\n",
    "    lines = set(lines)\n",
    "\n",
    "    # checking now multiple annotations\n",
    "    \n",
    "\n",
    "    print (lines)\n",
    "    break"
   ]
  }
 ]
}